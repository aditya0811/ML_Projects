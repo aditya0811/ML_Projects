{
  "nbformat": 4,
  "nbformat_minor": 0,
  "metadata": {
    "colab": {
      "name": "Modelling.ipynb",
      "version": "0.3.2",
      "provenance": [],
      "collapsed_sections": [
        "DUCWyAUWJJm8",
        "IiwPUD4edkrL",
        "IjTV-DRZsf49"
      ],
      "include_colab_link": true
    },
    "kernelspec": {
      "name": "python3",
      "display_name": "Python 3"
    },
    "accelerator": "GPU"
  },
  "cells": [
    {
      "cell_type": "markdown",
      "metadata": {
        "id": "view-in-github",
        "colab_type": "text"
      },
      "source": [
        "<a href=\"https://colab.research.google.com/github/aditya0811/ML_Projects/blob/master/Modelling.ipynb\" target=\"_parent\"><img src=\"https://colab.research.google.com/assets/colab-badge.svg\" alt=\"Open In Colab\"/></a>"
      ]
    },
    {
      "metadata": {
        "id": "-OxJwrVU_fgC",
        "colab_type": "text"
      },
      "cell_type": "markdown",
      "source": [
        "This notebook is a follow up of the dataset I prepared after using New York Taxi dataset from kaggle which is in the notebook.\n",
        "https://github.com/aditya0811/ML_Projects/blob/master/New_York_Taxi_fare_Analysis/NYC_Taxi_Fare_Analysis.ipynb"
      ]
    },
    {
      "metadata": {
        "id": "oxl4fCbQoV3R",
        "colab_type": "text"
      },
      "cell_type": "markdown",
      "source": [
        "# RESULTS\n",
        "\n",
        "\n",
        "*   Using Random Forest regressor with default parameters I Mean Squared error was 173\n",
        "*   Using Random Forest regressor cross validation accuracy was 79.48\n",
        "* Using Grid Search (for finding best parameters) I got MSE around 14\n",
        "* Use simple stacked models to predict fare price.I used here averaged models(XGBoost,ENet,GradientBoosting) which individually gave RMSE value as (4.4437,9.6255,4.29) and after averaging RMSE 5.1439\n"
      ]
    },
    {
      "metadata": {
        "id": "DUCWyAUWJJm8",
        "colab_type": "text"
      },
      "cell_type": "markdown",
      "source": [
        "#Data preparation"
      ]
    },
    {
      "metadata": {
        "id": "0HcMymCuYIqu",
        "colab_type": "code",
        "outputId": "9d398540-d995-4574-82c1-9df30117d744",
        "colab": {
          "base_uri": "https://localhost:8080/",
          "height": 122
        }
      },
      "cell_type": "code",
      "source": [
        "from google.colab import drive\n",
        "drive.mount('/content/drive')"
      ],
      "execution_count": 0,
      "outputs": [
        {
          "output_type": "stream",
          "text": [
            "Go to this URL in a browser: https://accounts.google.com/o/oauth2/auth?client_id=947318989803-6bn6qk8qdgf4n4g3pfee6491hc0brc4i.apps.googleusercontent.com&redirect_uri=urn%3Aietf%3Awg%3Aoauth%3A2.0%3Aoob&scope=email%20https%3A%2F%2Fwww.googleapis.com%2Fauth%2Fdocs.test%20https%3A%2F%2Fwww.googleapis.com%2Fauth%2Fdrive%20https%3A%2F%2Fwww.googleapis.com%2Fauth%2Fdrive.photos.readonly%20https%3A%2F%2Fwww.googleapis.com%2Fauth%2Fpeopleapi.readonly&response_type=code\n",
            "\n",
            "Enter your authorization code:\n",
            "··········\n",
            "Mounted at /content/drive\n"
          ],
          "name": "stdout"
        }
      ]
    },
    {
      "metadata": {
        "id": "JQY1k09JZ1nM",
        "colab_type": "code",
        "colab": {}
      },
      "cell_type": "code",
      "source": [
        "import numpy as np\n",
        "import pandas as pd\n",
        "import matplotlib.pyplot as plt\n",
        "import seaborn as sns\n",
        "%matplotlib inline\n",
        "plt.style.use('seaborn-whitegrid')"
      ],
      "execution_count": 0,
      "outputs": []
    },
    {
      "metadata": {
        "id": "8RKVezR1Xlju",
        "colab_type": "code",
        "colab": {}
      },
      "cell_type": "code",
      "source": [
        "df_train =  pd.read_csv('drive/My Drive/training.csv', parse_dates=[\"pickup_datetime\"],nrows=50000)"
      ],
      "execution_count": 0,
      "outputs": []
    },
    {
      "metadata": {
        "id": "exe63VmMXZTt",
        "colab_type": "code",
        "outputId": "606c5eb0-4a88-4440-e438-403385da71f8",
        "colab": {
          "base_uri": "https://localhost:8080/",
          "height": 357
        }
      },
      "cell_type": "code",
      "source": [
        "df_train.info()"
      ],
      "execution_count": 0,
      "outputs": [
        {
          "output_type": "stream",
          "text": [
            "<class 'pandas.core.frame.DataFrame'>\n",
            "RangeIndex: 50000 entries, 0 to 49999\n",
            "Data columns (total 15 columns):\n",
            "Unnamed: 0           50000 non-null int64\n",
            "key                  50000 non-null object\n",
            "fare_amount          50000 non-null float64\n",
            "pickup_datetime      50000 non-null datetime64[ns]\n",
            "pickup_longitude     50000 non-null float64\n",
            "pickup_latitude      50000 non-null float64\n",
            "dropoff_longitude    50000 non-null float64\n",
            "dropoff_latitude     50000 non-null float64\n",
            "passenger_count      50000 non-null float64\n",
            "H_Distance           50000 non-null float64\n",
            "Year                 50000 non-null float64\n",
            "Month                50000 non-null float64\n",
            "Date                 50000 non-null float64\n",
            "Day of Week          50000 non-null float64\n",
            "Hour                 50000 non-null float64\n",
            "dtypes: datetime64[ns](1), float64(12), int64(1), object(1)\n",
            "memory usage: 5.7+ MB\n"
          ],
          "name": "stdout"
        }
      ]
    },
    {
      "metadata": {
        "id": "Glg_1hsrabbC",
        "colab_type": "code",
        "outputId": "af971816-e82c-4328-96b5-2dba65f91677",
        "colab": {
          "base_uri": "https://localhost:8080/",
          "height": 343
        }
      },
      "cell_type": "code",
      "source": [
        "df_train.head(5)"
      ],
      "execution_count": 0,
      "outputs": [
        {
          "output_type": "execute_result",
          "data": {
            "text/html": [
              "<div>\n",
              "<style scoped>\n",
              "    .dataframe tbody tr th:only-of-type {\n",
              "        vertical-align: middle;\n",
              "    }\n",
              "\n",
              "    .dataframe tbody tr th {\n",
              "        vertical-align: top;\n",
              "    }\n",
              "\n",
              "    .dataframe thead th {\n",
              "        text-align: right;\n",
              "    }\n",
              "</style>\n",
              "<table border=\"1\" class=\"dataframe\">\n",
              "  <thead>\n",
              "    <tr style=\"text-align: right;\">\n",
              "      <th></th>\n",
              "      <th>Unnamed: 0</th>\n",
              "      <th>key</th>\n",
              "      <th>fare_amount</th>\n",
              "      <th>pickup_datetime</th>\n",
              "      <th>pickup_longitude</th>\n",
              "      <th>pickup_latitude</th>\n",
              "      <th>dropoff_longitude</th>\n",
              "      <th>dropoff_latitude</th>\n",
              "      <th>passenger_count</th>\n",
              "      <th>H_Distance</th>\n",
              "      <th>Year</th>\n",
              "      <th>Month</th>\n",
              "      <th>Date</th>\n",
              "      <th>Day of Week</th>\n",
              "      <th>Hour</th>\n",
              "    </tr>\n",
              "  </thead>\n",
              "  <tbody>\n",
              "    <tr>\n",
              "      <th>0</th>\n",
              "      <td>0</td>\n",
              "      <td>2009-06-15 17:26:21.0000001</td>\n",
              "      <td>4.5</td>\n",
              "      <td>2009-06-15 17:26:21</td>\n",
              "      <td>-73.844311</td>\n",
              "      <td>40.721319</td>\n",
              "      <td>-73.841610</td>\n",
              "      <td>40.712278</td>\n",
              "      <td>1.0</td>\n",
              "      <td>1.030764</td>\n",
              "      <td>2009.0</td>\n",
              "      <td>6.0</td>\n",
              "      <td>15.0</td>\n",
              "      <td>0.0</td>\n",
              "      <td>17.0</td>\n",
              "    </tr>\n",
              "    <tr>\n",
              "      <th>1</th>\n",
              "      <td>1</td>\n",
              "      <td>2010-01-05 16:52:16.0000002</td>\n",
              "      <td>16.9</td>\n",
              "      <td>2010-01-05 16:52:16</td>\n",
              "      <td>-74.016048</td>\n",
              "      <td>40.711303</td>\n",
              "      <td>-73.979268</td>\n",
              "      <td>40.782004</td>\n",
              "      <td>1.0</td>\n",
              "      <td>8.450134</td>\n",
              "      <td>2010.0</td>\n",
              "      <td>1.0</td>\n",
              "      <td>5.0</td>\n",
              "      <td>1.0</td>\n",
              "      <td>16.0</td>\n",
              "    </tr>\n",
              "    <tr>\n",
              "      <th>2</th>\n",
              "      <td>2</td>\n",
              "      <td>2011-08-18 00:35:00.00000049</td>\n",
              "      <td>5.7</td>\n",
              "      <td>2011-08-18 00:35:00</td>\n",
              "      <td>-73.982738</td>\n",
              "      <td>40.761270</td>\n",
              "      <td>-73.991242</td>\n",
              "      <td>40.750562</td>\n",
              "      <td>2.0</td>\n",
              "      <td>1.389525</td>\n",
              "      <td>2011.0</td>\n",
              "      <td>8.0</td>\n",
              "      <td>18.0</td>\n",
              "      <td>3.0</td>\n",
              "      <td>0.0</td>\n",
              "    </tr>\n",
              "    <tr>\n",
              "      <th>3</th>\n",
              "      <td>3</td>\n",
              "      <td>2012-04-21 04:30:42.0000001</td>\n",
              "      <td>7.7</td>\n",
              "      <td>2012-04-21 04:30:42</td>\n",
              "      <td>-73.987130</td>\n",
              "      <td>40.733143</td>\n",
              "      <td>-73.991567</td>\n",
              "      <td>40.758092</td>\n",
              "      <td>1.0</td>\n",
              "      <td>2.799270</td>\n",
              "      <td>2012.0</td>\n",
              "      <td>4.0</td>\n",
              "      <td>21.0</td>\n",
              "      <td>5.0</td>\n",
              "      <td>4.0</td>\n",
              "    </tr>\n",
              "    <tr>\n",
              "      <th>4</th>\n",
              "      <td>4</td>\n",
              "      <td>2010-03-09 07:51:00.000000135</td>\n",
              "      <td>5.3</td>\n",
              "      <td>2010-03-09 07:51:00</td>\n",
              "      <td>-73.968095</td>\n",
              "      <td>40.768008</td>\n",
              "      <td>-73.956655</td>\n",
              "      <td>40.783762</td>\n",
              "      <td>1.0</td>\n",
              "      <td>1.999157</td>\n",
              "      <td>2010.0</td>\n",
              "      <td>3.0</td>\n",
              "      <td>9.0</td>\n",
              "      <td>1.0</td>\n",
              "      <td>7.0</td>\n",
              "    </tr>\n",
              "  </tbody>\n",
              "</table>\n",
              "</div>"
            ],
            "text/plain": [
              "   Unnamed: 0                            key  fare_amount     pickup_datetime  \\\n",
              "0           0    2009-06-15 17:26:21.0000001          4.5 2009-06-15 17:26:21   \n",
              "1           1    2010-01-05 16:52:16.0000002         16.9 2010-01-05 16:52:16   \n",
              "2           2   2011-08-18 00:35:00.00000049          5.7 2011-08-18 00:35:00   \n",
              "3           3    2012-04-21 04:30:42.0000001          7.7 2012-04-21 04:30:42   \n",
              "4           4  2010-03-09 07:51:00.000000135          5.3 2010-03-09 07:51:00   \n",
              "\n",
              "   pickup_longitude  pickup_latitude  dropoff_longitude  dropoff_latitude  \\\n",
              "0        -73.844311        40.721319         -73.841610         40.712278   \n",
              "1        -74.016048        40.711303         -73.979268         40.782004   \n",
              "2        -73.982738        40.761270         -73.991242         40.750562   \n",
              "3        -73.987130        40.733143         -73.991567         40.758092   \n",
              "4        -73.968095        40.768008         -73.956655         40.783762   \n",
              "\n",
              "   passenger_count  H_Distance    Year  Month  Date  Day of Week  Hour  \n",
              "0              1.0    1.030764  2009.0    6.0  15.0          0.0  17.0  \n",
              "1              1.0    8.450134  2010.0    1.0   5.0          1.0  16.0  \n",
              "2              2.0    1.389525  2011.0    8.0  18.0          3.0   0.0  \n",
              "3              1.0    2.799270  2012.0    4.0  21.0          5.0   4.0  \n",
              "4              1.0    1.999157  2010.0    3.0   9.0          1.0   7.0  "
            ]
          },
          "metadata": {
            "tags": []
          },
          "execution_count": 6
        }
      ]
    },
    {
      "metadata": {
        "id": "PosxhcDTbBGx",
        "colab_type": "code",
        "colab": {}
      },
      "cell_type": "code",
      "source": [
        "df_train.drop(['Unnamed: 0','pickup_datetime','key'], axis=1, inplace=True)"
      ],
      "execution_count": 0,
      "outputs": []
    },
    {
      "metadata": {
        "id": "jPxvqJnnb2_c",
        "colab_type": "code",
        "outputId": "aca7a562-6779-45fd-f192-2230df56dc45",
        "colab": {
          "base_uri": "https://localhost:8080/",
          "height": 85
        }
      },
      "cell_type": "code",
      "source": [
        "df_train.columns"
      ],
      "execution_count": 0,
      "outputs": [
        {
          "output_type": "execute_result",
          "data": {
            "text/plain": [
              "Index(['fare_amount', 'pickup_longitude', 'pickup_latitude',\n",
              "       'dropoff_longitude', 'dropoff_latitude', 'passenger_count',\n",
              "       'H_Distance', 'Year', 'Month', 'Date', 'Day of Week', 'Hour'],\n",
              "      dtype='object')"
            ]
          },
          "metadata": {
            "tags": []
          },
          "execution_count": 25
        }
      ]
    },
    {
      "metadata": {
        "id": "Oa68YCJwJx25",
        "colab_type": "code",
        "colab": {}
      },
      "cell_type": "code",
      "source": [
        "month_name = {1: 'Jan',2: 'Feb',3: 'Mar',4: 'April',5: 'May',6: 'Jun',7: 'July',8: 'Aug',9: 'Sept',10: 'Oct',11: 'Nov',12: 'Dec'}\n",
        "day_week={0: 'Mon',1: 'Tues',2: 'Wed',3: 'Thurs',4: 'Fri',5: 'Sat',6: 'Sun'}"
      ],
      "execution_count": 0,
      "outputs": []
    },
    {
      "metadata": {
        "colab_type": "code",
        "outputId": "1abc4425-0db9-4bfa-da95-3165b2e87ee1",
        "id": "9DHXl8ss4OGw",
        "colab": {
          "base_uri": "https://localhost:8080/",
          "height": 204
        }
      },
      "cell_type": "code",
      "source": [
        "df_train['Month'].replace(month_name , inplace =True)\n",
        "df_train['Day of Week'].replace(day_week,inplace=True)\n",
        "df_train.head(5)"
      ],
      "execution_count": 0,
      "outputs": [
        {
          "output_type": "execute_result",
          "data": {
            "text/html": [
              "<div>\n",
              "<style scoped>\n",
              "    .dataframe tbody tr th:only-of-type {\n",
              "        vertical-align: middle;\n",
              "    }\n",
              "\n",
              "    .dataframe tbody tr th {\n",
              "        vertical-align: top;\n",
              "    }\n",
              "\n",
              "    .dataframe thead th {\n",
              "        text-align: right;\n",
              "    }\n",
              "</style>\n",
              "<table border=\"1\" class=\"dataframe\">\n",
              "  <thead>\n",
              "    <tr style=\"text-align: right;\">\n",
              "      <th></th>\n",
              "      <th>fare_amount</th>\n",
              "      <th>pickup_longitude</th>\n",
              "      <th>pickup_latitude</th>\n",
              "      <th>dropoff_longitude</th>\n",
              "      <th>dropoff_latitude</th>\n",
              "      <th>passenger_count</th>\n",
              "      <th>H_Distance</th>\n",
              "      <th>Year</th>\n",
              "      <th>Month</th>\n",
              "      <th>Date</th>\n",
              "      <th>Day of Week</th>\n",
              "      <th>Hour</th>\n",
              "    </tr>\n",
              "  </thead>\n",
              "  <tbody>\n",
              "    <tr>\n",
              "      <th>0</th>\n",
              "      <td>4.5</td>\n",
              "      <td>-73.844311</td>\n",
              "      <td>40.721319</td>\n",
              "      <td>-73.841610</td>\n",
              "      <td>40.712278</td>\n",
              "      <td>1.0</td>\n",
              "      <td>1.030764</td>\n",
              "      <td>2009.0</td>\n",
              "      <td>Jun</td>\n",
              "      <td>15.0</td>\n",
              "      <td>Mon</td>\n",
              "      <td>17.0</td>\n",
              "    </tr>\n",
              "    <tr>\n",
              "      <th>1</th>\n",
              "      <td>16.9</td>\n",
              "      <td>-74.016048</td>\n",
              "      <td>40.711303</td>\n",
              "      <td>-73.979268</td>\n",
              "      <td>40.782004</td>\n",
              "      <td>1.0</td>\n",
              "      <td>8.450134</td>\n",
              "      <td>2010.0</td>\n",
              "      <td>Jan</td>\n",
              "      <td>5.0</td>\n",
              "      <td>Tues</td>\n",
              "      <td>16.0</td>\n",
              "    </tr>\n",
              "    <tr>\n",
              "      <th>2</th>\n",
              "      <td>5.7</td>\n",
              "      <td>-73.982738</td>\n",
              "      <td>40.761270</td>\n",
              "      <td>-73.991242</td>\n",
              "      <td>40.750562</td>\n",
              "      <td>2.0</td>\n",
              "      <td>1.389525</td>\n",
              "      <td>2011.0</td>\n",
              "      <td>Aug</td>\n",
              "      <td>18.0</td>\n",
              "      <td>Thurs</td>\n",
              "      <td>0.0</td>\n",
              "    </tr>\n",
              "    <tr>\n",
              "      <th>3</th>\n",
              "      <td>7.7</td>\n",
              "      <td>-73.987130</td>\n",
              "      <td>40.733143</td>\n",
              "      <td>-73.991567</td>\n",
              "      <td>40.758092</td>\n",
              "      <td>1.0</td>\n",
              "      <td>2.799270</td>\n",
              "      <td>2012.0</td>\n",
              "      <td>April</td>\n",
              "      <td>21.0</td>\n",
              "      <td>Sat</td>\n",
              "      <td>4.0</td>\n",
              "    </tr>\n",
              "    <tr>\n",
              "      <th>4</th>\n",
              "      <td>5.3</td>\n",
              "      <td>-73.968095</td>\n",
              "      <td>40.768008</td>\n",
              "      <td>-73.956655</td>\n",
              "      <td>40.783762</td>\n",
              "      <td>1.0</td>\n",
              "      <td>1.999157</td>\n",
              "      <td>2010.0</td>\n",
              "      <td>Mar</td>\n",
              "      <td>9.0</td>\n",
              "      <td>Tues</td>\n",
              "      <td>7.0</td>\n",
              "    </tr>\n",
              "  </tbody>\n",
              "</table>\n",
              "</div>"
            ],
            "text/plain": [
              "   fare_amount  pickup_longitude  pickup_latitude  dropoff_longitude  \\\n",
              "0          4.5        -73.844311        40.721319         -73.841610   \n",
              "1         16.9        -74.016048        40.711303         -73.979268   \n",
              "2          5.7        -73.982738        40.761270         -73.991242   \n",
              "3          7.7        -73.987130        40.733143         -73.991567   \n",
              "4          5.3        -73.968095        40.768008         -73.956655   \n",
              "\n",
              "   dropoff_latitude  passenger_count  H_Distance    Year  Month  Date  \\\n",
              "0         40.712278              1.0    1.030764  2009.0    Jun  15.0   \n",
              "1         40.782004              1.0    8.450134  2010.0    Jan   5.0   \n",
              "2         40.750562              2.0    1.389525  2011.0    Aug  18.0   \n",
              "3         40.758092              1.0    2.799270  2012.0  April  21.0   \n",
              "4         40.783762              1.0    1.999157  2010.0    Mar   9.0   \n",
              "\n",
              "  Day of Week  Hour  \n",
              "0         Mon  17.0  \n",
              "1        Tues  16.0  \n",
              "2       Thurs   0.0  \n",
              "3         Sat   4.0  \n",
              "4        Tues   7.0  "
            ]
          },
          "metadata": {
            "tags": []
          },
          "execution_count": 6
        }
      ]
    },
    {
      "metadata": {
        "id": "2gBVNKx3JVcr",
        "colab_type": "text"
      },
      "cell_type": "markdown",
      "source": [
        "**Renaming columns for Hours ,so that we can make difference between Hour and time columns to use One hot encoding**"
      ]
    },
    {
      "metadata": {
        "id": "0fAguCQH2keA",
        "colab_type": "code",
        "outputId": "5696722e-3bfe-4c2a-be31-cc6c4011cb89",
        "colab": {
          "base_uri": "https://localhost:8080/",
          "height": 204
        }
      },
      "cell_type": "code",
      "source": [
        "df_train.head(5)"
      ],
      "execution_count": 0,
      "outputs": [
        {
          "output_type": "execute_result",
          "data": {
            "text/html": [
              "<div>\n",
              "<style scoped>\n",
              "    .dataframe tbody tr th:only-of-type {\n",
              "        vertical-align: middle;\n",
              "    }\n",
              "\n",
              "    .dataframe tbody tr th {\n",
              "        vertical-align: top;\n",
              "    }\n",
              "\n",
              "    .dataframe thead th {\n",
              "        text-align: right;\n",
              "    }\n",
              "</style>\n",
              "<table border=\"1\" class=\"dataframe\">\n",
              "  <thead>\n",
              "    <tr style=\"text-align: right;\">\n",
              "      <th></th>\n",
              "      <th>fare_amount</th>\n",
              "      <th>pickup_longitude</th>\n",
              "      <th>pickup_latitude</th>\n",
              "      <th>dropoff_longitude</th>\n",
              "      <th>dropoff_latitude</th>\n",
              "      <th>passenger_count</th>\n",
              "      <th>H_Distance</th>\n",
              "      <th>Year</th>\n",
              "      <th>Month</th>\n",
              "      <th>Date</th>\n",
              "      <th>Day of Week</th>\n",
              "      <th>Hour</th>\n",
              "    </tr>\n",
              "  </thead>\n",
              "  <tbody>\n",
              "    <tr>\n",
              "      <th>0</th>\n",
              "      <td>4.5</td>\n",
              "      <td>-73.844311</td>\n",
              "      <td>40.721319</td>\n",
              "      <td>-73.841610</td>\n",
              "      <td>40.712278</td>\n",
              "      <td>1.0</td>\n",
              "      <td>1.030764</td>\n",
              "      <td>2009.0</td>\n",
              "      <td>Jun</td>\n",
              "      <td>15.0</td>\n",
              "      <td>Mon</td>\n",
              "      <td>H17.0</td>\n",
              "    </tr>\n",
              "    <tr>\n",
              "      <th>1</th>\n",
              "      <td>16.9</td>\n",
              "      <td>-74.016048</td>\n",
              "      <td>40.711303</td>\n",
              "      <td>-73.979268</td>\n",
              "      <td>40.782004</td>\n",
              "      <td>1.0</td>\n",
              "      <td>8.450134</td>\n",
              "      <td>2010.0</td>\n",
              "      <td>Jan</td>\n",
              "      <td>5.0</td>\n",
              "      <td>Tues</td>\n",
              "      <td>H16.0</td>\n",
              "    </tr>\n",
              "    <tr>\n",
              "      <th>2</th>\n",
              "      <td>5.7</td>\n",
              "      <td>-73.982738</td>\n",
              "      <td>40.761270</td>\n",
              "      <td>-73.991242</td>\n",
              "      <td>40.750562</td>\n",
              "      <td>2.0</td>\n",
              "      <td>1.389525</td>\n",
              "      <td>2011.0</td>\n",
              "      <td>Aug</td>\n",
              "      <td>18.0</td>\n",
              "      <td>Thurs</td>\n",
              "      <td>H0.0</td>\n",
              "    </tr>\n",
              "    <tr>\n",
              "      <th>3</th>\n",
              "      <td>7.7</td>\n",
              "      <td>-73.987130</td>\n",
              "      <td>40.733143</td>\n",
              "      <td>-73.991567</td>\n",
              "      <td>40.758092</td>\n",
              "      <td>1.0</td>\n",
              "      <td>2.799270</td>\n",
              "      <td>2012.0</td>\n",
              "      <td>April</td>\n",
              "      <td>21.0</td>\n",
              "      <td>Sat</td>\n",
              "      <td>H4.0</td>\n",
              "    </tr>\n",
              "    <tr>\n",
              "      <th>4</th>\n",
              "      <td>5.3</td>\n",
              "      <td>-73.968095</td>\n",
              "      <td>40.768008</td>\n",
              "      <td>-73.956655</td>\n",
              "      <td>40.783762</td>\n",
              "      <td>1.0</td>\n",
              "      <td>1.999157</td>\n",
              "      <td>2010.0</td>\n",
              "      <td>Mar</td>\n",
              "      <td>9.0</td>\n",
              "      <td>Tues</td>\n",
              "      <td>H7.0</td>\n",
              "    </tr>\n",
              "  </tbody>\n",
              "</table>\n",
              "</div>"
            ],
            "text/plain": [
              "   fare_amount  pickup_longitude  pickup_latitude  dropoff_longitude  \\\n",
              "0          4.5        -73.844311        40.721319         -73.841610   \n",
              "1         16.9        -74.016048        40.711303         -73.979268   \n",
              "2          5.7        -73.982738        40.761270         -73.991242   \n",
              "3          7.7        -73.987130        40.733143         -73.991567   \n",
              "4          5.3        -73.968095        40.768008         -73.956655   \n",
              "\n",
              "   dropoff_latitude  passenger_count  H_Distance    Year  Month  Date  \\\n",
              "0         40.712278              1.0    1.030764  2009.0    Jun  15.0   \n",
              "1         40.782004              1.0    8.450134  2010.0    Jan   5.0   \n",
              "2         40.750562              2.0    1.389525  2011.0    Aug  18.0   \n",
              "3         40.758092              1.0    2.799270  2012.0  April  21.0   \n",
              "4         40.783762              1.0    1.999157  2010.0    Mar   9.0   \n",
              "\n",
              "  Day of Week   Hour  \n",
              "0         Mon  H17.0  \n",
              "1        Tues  H16.0  \n",
              "2       Thurs   H0.0  \n",
              "3         Sat   H4.0  \n",
              "4        Tues   H7.0  "
            ]
          },
          "metadata": {
            "tags": []
          },
          "execution_count": 29
        }
      ]
    },
    {
      "metadata": {
        "id": "8uc3vbLI32Wj",
        "colab_type": "code",
        "colab": {}
      },
      "cell_type": "code",
      "source": [
        "cols = ('Month', 'Day of Week', \n",
        "        'Hour', 'Date','Year')\n",
        "for col in cols:\n",
        "  df_train = pd.concat([df_train,pd.get_dummies(df_train[col], prefix=col)],axis=1)\n",
        "  df_train.drop([col],axis=1, inplace=True)\n",
        "  "
      ],
      "execution_count": 0,
      "outputs": []
    },
    {
      "metadata": {
        "id": "4d8DCxrB3NrB",
        "colab_type": "code",
        "outputId": "b8839cb6-dc98-4077-a4c8-cad9f01a1827",
        "colab": {
          "base_uri": "https://localhost:8080/",
          "height": 374
        }
      },
      "cell_type": "code",
      "source": [
        "df_train.columns"
      ],
      "execution_count": 0,
      "outputs": [
        {
          "output_type": "execute_result",
          "data": {
            "text/plain": [
              "Index(['fare_amount', 'pickup_longitude', 'pickup_latitude',\n",
              "       'dropoff_longitude', 'dropoff_latitude', 'passenger_count',\n",
              "       'H_Distance', 'Month_April', 'Month_Aug', 'Month_Dec', 'Month_Feb',\n",
              "       'Month_Jan', 'Month_July', 'Month_Jun', 'Month_Mar', 'Month_May',\n",
              "       'Month_Nov', 'Month_Oct', 'Month_Sept', 'Day of Week_Fri',\n",
              "       'Day of Week_Mon', 'Day of Week_Sat', 'Day of Week_Sun',\n",
              "       'Day of Week_Thurs', 'Day of Week_Tues', 'Day of Week_Wed', 'Hour_H0.0',\n",
              "       'Hour_H1.0', 'Hour_H10.0', 'Hour_H11.0', 'Hour_H12.0', 'Hour_H13.0',\n",
              "       'Hour_H14.0', 'Hour_H15.0', 'Hour_H16.0', 'Hour_H17.0', 'Hour_H18.0',\n",
              "       'Hour_H19.0', 'Hour_H2.0', 'Hour_H20.0', 'Hour_H21.0', 'Hour_H22.0',\n",
              "       'Hour_H23.0', 'Hour_H3.0', 'Hour_H4.0', 'Hour_H5.0', 'Hour_H6.0',\n",
              "       'Hour_H7.0', 'Hour_H8.0', 'Hour_H9.0', 'Date_1.0', 'Date_2.0',\n",
              "       'Date_3.0', 'Date_4.0', 'Date_5.0', 'Date_6.0', 'Date_7.0', 'Date_8.0',\n",
              "       'Date_9.0', 'Date_10.0', 'Date_11.0', 'Date_12.0', 'Date_13.0',\n",
              "       'Date_14.0', 'Date_15.0', 'Date_16.0', 'Date_17.0', 'Date_18.0',\n",
              "       'Date_19.0', 'Date_20.0', 'Date_21.0', 'Date_22.0', 'Date_23.0',\n",
              "       'Date_24.0', 'Date_25.0', 'Date_26.0', 'Date_27.0', 'Date_28.0',\n",
              "       'Date_29.0', 'Date_30.0', 'Date_31.0', 'Year_2009.0', 'Year_2010.0',\n",
              "       'Year_2011.0', 'Year_2012.0', 'Year_2013.0', 'Year_2014.0',\n",
              "       'Year_2015.0'],\n",
              "      dtype='object')"
            ]
          },
          "metadata": {
            "tags": []
          },
          "execution_count": 9
        }
      ]
    },
    {
      "metadata": {
        "id": "c7DkauvzizRa",
        "colab_type": "code",
        "outputId": "cc6f8d5c-3847-4920-dd29-d079f0ecd67c",
        "colab": {
          "base_uri": "https://localhost:8080/",
          "height": 34
        }
      },
      "cell_type": "code",
      "source": [
        "print('Shape df_train: {}'.format(df_train.shape))"
      ],
      "execution_count": 0,
      "outputs": [
        {
          "output_type": "stream",
          "text": [
            "Shape df_train: (50000, 88)\n"
          ],
          "name": "stdout"
        }
      ]
    },
    {
      "metadata": {
        "id": "FaeKQOzCimi2",
        "colab_type": "code",
        "outputId": "d21690ac-6356-4b08-9e03-d60e2b60313a",
        "colab": {
          "base_uri": "https://localhost:8080/",
          "height": 253
        }
      },
      "cell_type": "code",
      "source": [
        "df_train.head(5)"
      ],
      "execution_count": 0,
      "outputs": [
        {
          "output_type": "execute_result",
          "data": {
            "text/html": [
              "<div>\n",
              "<style scoped>\n",
              "    .dataframe tbody tr th:only-of-type {\n",
              "        vertical-align: middle;\n",
              "    }\n",
              "\n",
              "    .dataframe tbody tr th {\n",
              "        vertical-align: top;\n",
              "    }\n",
              "\n",
              "    .dataframe thead th {\n",
              "        text-align: right;\n",
              "    }\n",
              "</style>\n",
              "<table border=\"1\" class=\"dataframe\">\n",
              "  <thead>\n",
              "    <tr style=\"text-align: right;\">\n",
              "      <th></th>\n",
              "      <th>fare_amount</th>\n",
              "      <th>pickup_longitude</th>\n",
              "      <th>pickup_latitude</th>\n",
              "      <th>dropoff_longitude</th>\n",
              "      <th>dropoff_latitude</th>\n",
              "      <th>passenger_count</th>\n",
              "      <th>H_Distance</th>\n",
              "      <th>Month_April</th>\n",
              "      <th>Month_Aug</th>\n",
              "      <th>Month_Dec</th>\n",
              "      <th>...</th>\n",
              "      <th>Date_29.0</th>\n",
              "      <th>Date_30.0</th>\n",
              "      <th>Date_31.0</th>\n",
              "      <th>Year_2009.0</th>\n",
              "      <th>Year_2010.0</th>\n",
              "      <th>Year_2011.0</th>\n",
              "      <th>Year_2012.0</th>\n",
              "      <th>Year_2013.0</th>\n",
              "      <th>Year_2014.0</th>\n",
              "      <th>Year_2015.0</th>\n",
              "    </tr>\n",
              "  </thead>\n",
              "  <tbody>\n",
              "    <tr>\n",
              "      <th>0</th>\n",
              "      <td>4.5</td>\n",
              "      <td>-73.844311</td>\n",
              "      <td>40.721319</td>\n",
              "      <td>-73.841610</td>\n",
              "      <td>40.712278</td>\n",
              "      <td>1.0</td>\n",
              "      <td>1.030764</td>\n",
              "      <td>0</td>\n",
              "      <td>0</td>\n",
              "      <td>0</td>\n",
              "      <td>...</td>\n",
              "      <td>0</td>\n",
              "      <td>0</td>\n",
              "      <td>0</td>\n",
              "      <td>1</td>\n",
              "      <td>0</td>\n",
              "      <td>0</td>\n",
              "      <td>0</td>\n",
              "      <td>0</td>\n",
              "      <td>0</td>\n",
              "      <td>0</td>\n",
              "    </tr>\n",
              "    <tr>\n",
              "      <th>1</th>\n",
              "      <td>16.9</td>\n",
              "      <td>-74.016048</td>\n",
              "      <td>40.711303</td>\n",
              "      <td>-73.979268</td>\n",
              "      <td>40.782004</td>\n",
              "      <td>1.0</td>\n",
              "      <td>8.450134</td>\n",
              "      <td>0</td>\n",
              "      <td>0</td>\n",
              "      <td>0</td>\n",
              "      <td>...</td>\n",
              "      <td>0</td>\n",
              "      <td>0</td>\n",
              "      <td>0</td>\n",
              "      <td>0</td>\n",
              "      <td>1</td>\n",
              "      <td>0</td>\n",
              "      <td>0</td>\n",
              "      <td>0</td>\n",
              "      <td>0</td>\n",
              "      <td>0</td>\n",
              "    </tr>\n",
              "    <tr>\n",
              "      <th>2</th>\n",
              "      <td>5.7</td>\n",
              "      <td>-73.982738</td>\n",
              "      <td>40.761270</td>\n",
              "      <td>-73.991242</td>\n",
              "      <td>40.750562</td>\n",
              "      <td>2.0</td>\n",
              "      <td>1.389525</td>\n",
              "      <td>0</td>\n",
              "      <td>1</td>\n",
              "      <td>0</td>\n",
              "      <td>...</td>\n",
              "      <td>0</td>\n",
              "      <td>0</td>\n",
              "      <td>0</td>\n",
              "      <td>0</td>\n",
              "      <td>0</td>\n",
              "      <td>1</td>\n",
              "      <td>0</td>\n",
              "      <td>0</td>\n",
              "      <td>0</td>\n",
              "      <td>0</td>\n",
              "    </tr>\n",
              "    <tr>\n",
              "      <th>3</th>\n",
              "      <td>7.7</td>\n",
              "      <td>-73.987130</td>\n",
              "      <td>40.733143</td>\n",
              "      <td>-73.991567</td>\n",
              "      <td>40.758092</td>\n",
              "      <td>1.0</td>\n",
              "      <td>2.799270</td>\n",
              "      <td>1</td>\n",
              "      <td>0</td>\n",
              "      <td>0</td>\n",
              "      <td>...</td>\n",
              "      <td>0</td>\n",
              "      <td>0</td>\n",
              "      <td>0</td>\n",
              "      <td>0</td>\n",
              "      <td>0</td>\n",
              "      <td>0</td>\n",
              "      <td>1</td>\n",
              "      <td>0</td>\n",
              "      <td>0</td>\n",
              "      <td>0</td>\n",
              "    </tr>\n",
              "    <tr>\n",
              "      <th>4</th>\n",
              "      <td>5.3</td>\n",
              "      <td>-73.968095</td>\n",
              "      <td>40.768008</td>\n",
              "      <td>-73.956655</td>\n",
              "      <td>40.783762</td>\n",
              "      <td>1.0</td>\n",
              "      <td>1.999157</td>\n",
              "      <td>0</td>\n",
              "      <td>0</td>\n",
              "      <td>0</td>\n",
              "      <td>...</td>\n",
              "      <td>0</td>\n",
              "      <td>0</td>\n",
              "      <td>0</td>\n",
              "      <td>0</td>\n",
              "      <td>1</td>\n",
              "      <td>0</td>\n",
              "      <td>0</td>\n",
              "      <td>0</td>\n",
              "      <td>0</td>\n",
              "      <td>0</td>\n",
              "    </tr>\n",
              "  </tbody>\n",
              "</table>\n",
              "<p>5 rows × 88 columns</p>\n",
              "</div>"
            ],
            "text/plain": [
              "   fare_amount  pickup_longitude  pickup_latitude  dropoff_longitude  \\\n",
              "0          4.5        -73.844311        40.721319         -73.841610   \n",
              "1         16.9        -74.016048        40.711303         -73.979268   \n",
              "2          5.7        -73.982738        40.761270         -73.991242   \n",
              "3          7.7        -73.987130        40.733143         -73.991567   \n",
              "4          5.3        -73.968095        40.768008         -73.956655   \n",
              "\n",
              "   dropoff_latitude  passenger_count  H_Distance  Month_April  Month_Aug  \\\n",
              "0         40.712278              1.0    1.030764            0          0   \n",
              "1         40.782004              1.0    8.450134            0          0   \n",
              "2         40.750562              2.0    1.389525            0          1   \n",
              "3         40.758092              1.0    2.799270            1          0   \n",
              "4         40.783762              1.0    1.999157            0          0   \n",
              "\n",
              "   Month_Dec     ...       Date_29.0  Date_30.0  Date_31.0  Year_2009.0  \\\n",
              "0          0     ...               0          0          0            1   \n",
              "1          0     ...               0          0          0            0   \n",
              "2          0     ...               0          0          0            0   \n",
              "3          0     ...               0          0          0            0   \n",
              "4          0     ...               0          0          0            0   \n",
              "\n",
              "   Year_2010.0  Year_2011.0  Year_2012.0  Year_2013.0  Year_2014.0  \\\n",
              "0            0            0            0            0            0   \n",
              "1            1            0            0            0            0   \n",
              "2            0            1            0            0            0   \n",
              "3            0            0            1            0            0   \n",
              "4            1            0            0            0            0   \n",
              "\n",
              "   Year_2015.0  \n",
              "0            0  \n",
              "1            0  \n",
              "2            0  \n",
              "3            0  \n",
              "4            0  \n",
              "\n",
              "[5 rows x 88 columns]"
            ]
          },
          "metadata": {
            "tags": []
          },
          "execution_count": 12
        }
      ]
    },
    {
      "metadata": {
        "id": "uJsrtHDRbf_7",
        "colab_type": "code",
        "outputId": "9ee7ef5c-7ec5-4db3-8036-384c92443b5d",
        "colab": {
          "base_uri": "https://localhost:8080/",
          "height": 51
        }
      },
      "cell_type": "code",
      "source": [
        "from sklearn import datasets, linear_model\n",
        "from sklearn.model_selection import train_test_split\n",
        "X_train, X_test, y_train, y_test = train_test_split(df_train, df_train.fare_amount, test_size=0.2)\n",
        "print(X_train.shape, y_train.shape)\n",
        "print(X_test.shape, y_test.shape)"
      ],
      "execution_count": 0,
      "outputs": [
        {
          "output_type": "stream",
          "text": [
            "(40000, 88) (40000,)\n",
            "(10000, 88) (10000,)\n"
          ],
          "name": "stdout"
        }
      ]
    },
    {
      "metadata": {
        "id": "Qua_Q2F9cau4",
        "colab_type": "code",
        "outputId": "902252e8-7361-4c86-b788-50f36a7f445c",
        "colab": {
          "base_uri": "https://localhost:8080/",
          "height": 374
        }
      },
      "cell_type": "code",
      "source": [
        "X_train.columns"
      ],
      "execution_count": 0,
      "outputs": [
        {
          "output_type": "execute_result",
          "data": {
            "text/plain": [
              "Index(['fare_amount', 'pickup_longitude', 'pickup_latitude',\n",
              "       'dropoff_longitude', 'dropoff_latitude', 'passenger_count',\n",
              "       'H_Distance', 'Month_April', 'Month_Aug', 'Month_Dec', 'Month_Feb',\n",
              "       'Month_Jan', 'Month_July', 'Month_Jun', 'Month_Mar', 'Month_May',\n",
              "       'Month_Nov', 'Month_Oct', 'Month_Sept', 'Day of Week_Fri',\n",
              "       'Day of Week_Mon', 'Day of Week_Sat', 'Day of Week_Sun',\n",
              "       'Day of Week_Thurs', 'Day of Week_Tues', 'Day of Week_Wed', 'Hour_H0.0',\n",
              "       'Hour_H1.0', 'Hour_H10.0', 'Hour_H11.0', 'Hour_H12.0', 'Hour_H13.0',\n",
              "       'Hour_H14.0', 'Hour_H15.0', 'Hour_H16.0', 'Hour_H17.0', 'Hour_H18.0',\n",
              "       'Hour_H19.0', 'Hour_H2.0', 'Hour_H20.0', 'Hour_H21.0', 'Hour_H22.0',\n",
              "       'Hour_H23.0', 'Hour_H3.0', 'Hour_H4.0', 'Hour_H5.0', 'Hour_H6.0',\n",
              "       'Hour_H7.0', 'Hour_H8.0', 'Hour_H9.0', 'Date_1.0', 'Date_2.0',\n",
              "       'Date_3.0', 'Date_4.0', 'Date_5.0', 'Date_6.0', 'Date_7.0', 'Date_8.0',\n",
              "       'Date_9.0', 'Date_10.0', 'Date_11.0', 'Date_12.0', 'Date_13.0',\n",
              "       'Date_14.0', 'Date_15.0', 'Date_16.0', 'Date_17.0', 'Date_18.0',\n",
              "       'Date_19.0', 'Date_20.0', 'Date_21.0', 'Date_22.0', 'Date_23.0',\n",
              "       'Date_24.0', 'Date_25.0', 'Date_26.0', 'Date_27.0', 'Date_28.0',\n",
              "       'Date_29.0', 'Date_30.0', 'Date_31.0', 'Year_2009.0', 'Year_2010.0',\n",
              "       'Year_2011.0', 'Year_2012.0', 'Year_2013.0', 'Year_2014.0',\n",
              "       'Year_2015.0'],\n",
              "      dtype='object')"
            ]
          },
          "metadata": {
            "tags": []
          },
          "execution_count": 14
        }
      ]
    },
    {
      "metadata": {
        "id": "TDja00Fccxxw",
        "colab_type": "code",
        "outputId": "f4405506-24fa-46dd-ab71-2190609c9561",
        "colab": {
          "base_uri": "https://localhost:8080/",
          "height": 374
        }
      },
      "cell_type": "code",
      "source": [
        "X_test.columns"
      ],
      "execution_count": 0,
      "outputs": [
        {
          "output_type": "execute_result",
          "data": {
            "text/plain": [
              "Index(['fare_amount', 'pickup_longitude', 'pickup_latitude',\n",
              "       'dropoff_longitude', 'dropoff_latitude', 'passenger_count',\n",
              "       'H_Distance', 'Month_1.0', 'Month_2.0', 'Month_3.0', 'Month_4.0',\n",
              "       'Month_5.0', 'Month_6.0', 'Month_7.0', 'Month_8.0', 'Month_9.0',\n",
              "       'Month_10.0', 'Month_11.0', 'Month_12.0', 'Day of Week_0.0',\n",
              "       'Day of Week_1.0', 'Day of Week_2.0', 'Day of Week_3.0',\n",
              "       'Day of Week_4.0', 'Day of Week_5.0', 'Day of Week_6.0', 'Hour_H0.0',\n",
              "       'Hour_H1.0', 'Hour_H10.0', 'Hour_H11.0', 'Hour_H12.0', 'Hour_H13.0',\n",
              "       'Hour_H14.0', 'Hour_H15.0', 'Hour_H16.0', 'Hour_H17.0', 'Hour_H18.0',\n",
              "       'Hour_H19.0', 'Hour_H2.0', 'Hour_H20.0', 'Hour_H21.0', 'Hour_H22.0',\n",
              "       'Hour_H23.0', 'Hour_H3.0', 'Hour_H4.0', 'Hour_H5.0', 'Hour_H6.0',\n",
              "       'Hour_H7.0', 'Hour_H8.0', 'Hour_H9.0', 'Date_1.0', 'Date_2.0',\n",
              "       'Date_3.0', 'Date_4.0', 'Date_5.0', 'Date_6.0', 'Date_7.0', 'Date_8.0',\n",
              "       'Date_9.0', 'Date_10.0', 'Date_11.0', 'Date_12.0', 'Date_13.0',\n",
              "       'Date_14.0', 'Date_15.0', 'Date_16.0', 'Date_17.0', 'Date_18.0',\n",
              "       'Date_19.0', 'Date_20.0', 'Date_21.0', 'Date_22.0', 'Date_23.0',\n",
              "       'Date_24.0', 'Date_25.0', 'Date_26.0', 'Date_27.0', 'Date_28.0',\n",
              "       'Date_29.0', 'Date_30.0', 'Date_31.0', 'Year_2009.0', 'Year_2010.0',\n",
              "       'Year_2011.0', 'Year_2012.0', 'Year_2013.0', 'Year_2014.0',\n",
              "       'Year_2015.0'],\n",
              "      dtype='object')"
            ]
          },
          "metadata": {
            "tags": []
          },
          "execution_count": 14
        }
      ]
    },
    {
      "metadata": {
        "id": "oS2jvGgccC1J",
        "colab_type": "code",
        "colab": {}
      },
      "cell_type": "code",
      "source": [
        "X_train = X_train.iloc[:,X_train.columns!='fare_amount']\n",
        "X_test = X_test.iloc[:,X_test.columns!='fare_amount']"
      ],
      "execution_count": 0,
      "outputs": []
    },
    {
      "metadata": {
        "id": "tvT0FFApes4H",
        "colab_type": "text"
      },
      "cell_type": "markdown",
      "source": [
        "#Modelling"
      ]
    },
    {
      "metadata": {
        "id": "cJhgIyxJufJ2",
        "colab_type": "code",
        "colab": {}
      },
      "cell_type": "code",
      "source": [
        "from sklearn.linear_model import ElasticNet, Lasso,  BayesianRidge, LassoLarsIC\n",
        "from sklearn.ensemble import RandomForestRegressor,  GradientBoostingRegressor\n",
        "from sklearn.kernel_ridge import KernelRidge\n",
        "from sklearn.pipeline import make_pipeline\n",
        "from sklearn.preprocessing import RobustScaler\n",
        "from sklearn.base import BaseEstimator, TransformerMixin, RegressorMixin, clone\n",
        "from sklearn.model_selection import KFold, cross_val_score, train_test_split\n",
        "from sklearn.metrics import mean_squared_error\n",
        "import xgboost as xgb\n",
        "import lightgbm as lgb"
      ],
      "execution_count": 0,
      "outputs": []
    },
    {
      "metadata": {
        "id": "JAmX3aSnt8CO",
        "colab_type": "text"
      },
      "cell_type": "markdown",
      "source": [
        "#### Using  random forest"
      ]
    },
    {
      "metadata": {
        "id": "9XVwveRzX8ao",
        "colab_type": "code",
        "colab": {}
      },
      "cell_type": "code",
      "source": [
        "from sklearn.ensemble import RandomForestRegressor\n",
        "rf = RandomForestRegressor()"
      ],
      "execution_count": 0,
      "outputs": []
    },
    {
      "metadata": {
        "id": "ztASzZ7AHqCL",
        "colab_type": "code",
        "outputId": "b7a26678-aa62-45c6-c420-1789bd3dd042",
        "colab": {
          "base_uri": "https://localhost:8080/",
          "height": 71
        }
      },
      "cell_type": "code",
      "source": [
        "rf.fit(X_train, y_train)\n",
        "rf_predict = rf.predict(X_test)\n",
        "#print(rf_predict)"
      ],
      "execution_count": 0,
      "outputs": [
        {
          "output_type": "stream",
          "text": [
            "/usr/local/lib/python3.6/dist-packages/sklearn/ensemble/forest.py:246: FutureWarning: The default value of n_estimators will change from 10 in version 0.20 to 100 in 0.22.\n",
            "  \"10 in version 0.20 to 100 in 0.22.\", FutureWarning)\n"
          ],
          "name": "stderr"
        }
      ]
    },
    {
      "metadata": {
        "id": "YNbdB9RKB7e9",
        "colab_type": "code",
        "outputId": "b9c1b812-7ba8-4d42-c7aa-56bdde53f11c",
        "colab": {
          "base_uri": "https://localhost:8080/",
          "height": 51
        }
      },
      "cell_type": "code",
      "source": [
        "print(\"Mean squared error: %.2f\" % np.mean((rf_predict - y_test) ** 2))\n",
        "from sklearn.metrics import explained_variance_score\n",
        "explained_variance_score(y_test, rf_predict, multioutput='uniform_average')"
      ],
      "execution_count": 0,
      "outputs": [
        {
          "output_type": "stream",
          "text": [
            "Mean squared error: 173.98\n"
          ],
          "name": "stdout"
        },
        {
          "output_type": "execute_result",
          "data": {
            "text/plain": [
              "-0.8175064303587467"
            ]
          },
          "metadata": {
            "tags": []
          },
          "execution_count": 101
        }
      ]
    },
    {
      "metadata": {
        "id": "lNb1OkB5bQlp",
        "colab_type": "text"
      },
      "cell_type": "markdown",
      "source": [
        "#### Random forest with crossvalidation (only on training dataset)"
      ]
    },
    {
      "metadata": {
        "id": "62_ozVxz2FsX",
        "colab_type": "code",
        "colab": {}
      },
      "cell_type": "code",
      "source": [
        "#Using cross validation\n",
        "from sklearn.model_selection import cross_val_score\n",
        "accuracies=cross_val_score(estimator= rf,X=X_train,y=y_train,cv=10)"
      ],
      "execution_count": 0,
      "outputs": []
    },
    {
      "metadata": {
        "id": "9YE-4TanWryi",
        "colab_type": "code",
        "outputId": "ead0173d-8e42-4a6e-857d-27f0b324b6e0",
        "colab": {
          "base_uri": "https://localhost:8080/",
          "height": 34
        }
      },
      "cell_type": "code",
      "source": [
        "accuracies.mean()"
      ],
      "execution_count": 0,
      "outputs": [
        {
          "output_type": "execute_result",
          "data": {
            "text/plain": [
              "0.7948409503540399"
            ]
          },
          "metadata": {
            "tags": []
          },
          "execution_count": 40
        }
      ]
    },
    {
      "metadata": {
        "id": "oFm5YUh32aFu",
        "colab_type": "code",
        "outputId": "81647c71-bf0d-4621-a68f-6b7d8ae568d5",
        "colab": {
          "base_uri": "https://localhost:8080/",
          "height": 34
        }
      },
      "cell_type": "code",
      "source": [
        "accuracies.std()"
      ],
      "execution_count": 0,
      "outputs": [
        {
          "output_type": "execute_result",
          "data": {
            "text/plain": [
              "0.04610456256713789"
            ]
          },
          "metadata": {
            "tags": []
          },
          "execution_count": 41
        }
      ]
    },
    {
      "metadata": {
        "id": "kT1CqqL4eBDd",
        "colab_type": "text"
      },
      "cell_type": "markdown",
      "source": [
        "**Using Grid Search to find best parameters**"
      ]
    },
    {
      "metadata": {
        "id": "QzKLsdm9iz-Z",
        "colab_type": "text"
      },
      "cell_type": "markdown",
      "source": [
        "**Methodologies used for modelling**\n",
        "\n",
        "\n",
        "*   BOOTSTRAP-The bootstrap method is a statistical technique for estimating quantities about a population by averaging estimates from multiple small data samples.\n",
        "    \n",
        "\n",
        "    *   Here the estimation can be predicted with confidence interval which is not available in cross validation\n",
        "    *   We must choose size of sample and number of repeats.\n",
        "* know about parameters\n"
      ]
    },
    {
      "metadata": {
        "id": "Yq4uc--KDT6r",
        "colab_type": "code",
        "colab": {}
      },
      "cell_type": "code",
      "source": [
        "#Using gridsearch\n",
        "from sklearn.model_selection import GridSearchCV\n",
        "param_grid = {\n",
        "    'bootstrap': [True],\n",
        "    'max_depth': [80, 90],\n",
        "    'max_features': [2, 3],\n",
        "    'min_samples_leaf': [3, 4],\n",
        "    'min_samples_split': [8, 10],\n",
        "    'n_estimators': [100, 200]\n",
        "}"
      ],
      "execution_count": 0,
      "outputs": []
    },
    {
      "metadata": {
        "id": "6VAyGDbPJw_E",
        "colab_type": "code",
        "colab": {}
      },
      "cell_type": "code",
      "source": [
        "grid_search = GridSearchCV(estimator = rf, param_grid = param_grid, \n",
        "                          cv = 3, n_jobs = -1, verbose = 2)"
      ],
      "execution_count": 0,
      "outputs": []
    },
    {
      "metadata": {
        "id": "hm2fCz8BK0CF",
        "colab_type": "code",
        "outputId": "b572736f-78e1-40d6-e26b-bddbd78d4494",
        "colab": {
          "base_uri": "https://localhost:8080/",
          "height": 85
        }
      },
      "cell_type": "code",
      "source": [
        "grid_search=grid_search.fit(X_train,y_train)"
      ],
      "execution_count": 0,
      "outputs": [
        {
          "output_type": "stream",
          "text": [
            "Fitting 3 folds for each of 32 candidates, totalling 96 fits\n"
          ],
          "name": "stdout"
        },
        {
          "output_type": "stream",
          "text": [
            "[Parallel(n_jobs=-1)]: Using backend LokyBackend with 2 concurrent workers.\n",
            "[Parallel(n_jobs=-1)]: Done  37 tasks      | elapsed:  2.1min\n",
            "[Parallel(n_jobs=-1)]: Done  96 out of  96 | elapsed:  5.5min finished\n"
          ],
          "name": "stderr"
        }
      ]
    },
    {
      "metadata": {
        "id": "EI10DXkvNRlX",
        "colab_type": "code",
        "outputId": "e7823be9-1717-4e1c-b354-8cf138093b97",
        "colab": {
          "base_uri": "https://localhost:8080/",
          "height": 119
        }
      },
      "cell_type": "code",
      "source": [
        "grid_search.best_params_"
      ],
      "execution_count": 0,
      "outputs": [
        {
          "output_type": "execute_result",
          "data": {
            "text/plain": [
              "{'bootstrap': True,\n",
              " 'max_depth': 80,\n",
              " 'max_features': 3,\n",
              " 'min_samples_leaf': 3,\n",
              " 'min_samples_split': 8,\n",
              " 'n_estimators': 200}"
            ]
          },
          "metadata": {
            "tags": []
          },
          "execution_count": 45
        }
      ]
    },
    {
      "metadata": {
        "id": "4DNd2DHphHga",
        "colab_type": "code",
        "colab": {}
      },
      "cell_type": "code",
      "source": [
        "rf_bestparam=RandomForestRegressor(n_estimators=200, max_depth=80, min_samples_split=8, min_samples_leaf=3, max_features=3, bootstrap=True,random_state=42)"
      ],
      "execution_count": 0,
      "outputs": []
    },
    {
      "metadata": {
        "id": "pg9l6d6GNW0s",
        "colab_type": "code",
        "outputId": "b928757b-b8d3-4cf2-99ba-7065b32c0cc2",
        "colab": {
          "base_uri": "https://localhost:8080/",
          "height": 51
        }
      },
      "cell_type": "code",
      "source": [
        "rf_bestparam.fit(X_train, y_train)\n",
        "rf_bestparam_predict = rf.predict(X_test)\n",
        "print(\"Mean squared error: %.2f\" % np.mean((rf_bestparam_predict - y_test) ** 2))\n",
        "from sklearn.metrics import explained_variance_score\n",
        "explained_variance_score(y_test,rf_bestparam_predict, multioutput='uniform_average')"
      ],
      "execution_count": 0,
      "outputs": [
        {
          "output_type": "stream",
          "text": [
            "Mean squared error: 16.28\n"
          ],
          "name": "stdout"
        },
        {
          "output_type": "execute_result",
          "data": {
            "text/plain": [
              "0.824879817019208"
            ]
          },
          "metadata": {
            "tags": []
          },
          "execution_count": 52
        }
      ]
    },
    {
      "metadata": {
        "id": "AoiozdGT3BBl",
        "colab_type": "text"
      },
      "cell_type": "markdown",
      "source": [
        "### Averaging models"
      ]
    },
    {
      "metadata": {
        "id": "GW44wR6cuHcC",
        "colab_type": "code",
        "colab": {}
      },
      "cell_type": "code",
      "source": [
        "class AveragingModels(BaseEstimator, RegressorMixin, TransformerMixin):\n",
        "    def __init__(self, models):\n",
        "        self.models = models\n",
        "        \n",
        "    # we define clones of the original models to fit the data in\n",
        "    def fit(self, X, y):\n",
        "        self.models_ = [clone(x) for x in self.models]\n",
        "        \n",
        "        # Train cloned base models\n",
        "        for model in self.models_:\n",
        "            model.fit(X, y)\n",
        "\n",
        "        return self\n",
        "    \n",
        "    #Now we do the predictions for cloned models and average them\n",
        "    def predict(self, X):\n",
        "        predictions = np.column_stack([\n",
        "            model.predict(X) for model in self.models_\n",
        "        ])\n",
        "        return np.mean(predictions, axis=1)   "
      ],
      "execution_count": 0,
      "outputs": []
    },
    {
      "metadata": {
        "id": "ayRsEoHQRacY",
        "colab_type": "code",
        "colab": {}
      },
      "cell_type": "code",
      "source": [
        "#Validation function\n",
        "n_folds = 5\n",
        "\n",
        "def rmsle_cv(model):\n",
        "    kf = KFold(n_folds, shuffle=True, random_state=42).get_n_splits(X_train.values)\n",
        "    rmse= np.sqrt(-cross_val_score(model, X_train.values, y_train, scoring=\"neg_mean_squared_error\", cv = kf))\n",
        "    return(rmse)"
      ],
      "execution_count": 0,
      "outputs": []
    },
    {
      "metadata": {
        "id": "V_U4vJ4EsGIM",
        "colab_type": "code",
        "colab": {}
      },
      "cell_type": "code",
      "source": [
        "y = averaged_models.predict(X_test)\n",
        "print(\"Mean squared error: %.2f\" % np.mean((y - y_test) ** 2))\n",
        "explained_variance_score(y_test, y, multioutput='uniform_average')"
      ],
      "execution_count": 0,
      "outputs": []
    },
    {
      "metadata": {
        "id": "Qj8raKMFiR7_",
        "colab_type": "text"
      },
      "cell_type": "markdown",
      "source": [
        "**[Elastic Net -Uses L1 and L2 correction terms](https://medium.com/@jayeshbahire/lasso-ridge-and-elastic-net-regularization-4807897cb722)**\n",
        "Use of L1 penalty function has several limitations.[1] For example, in the \"large p, small n\" case (high-dimensional data with few examples), the LASSO selects at most n variables before it saturates. Also if there is a group of highly correlated variables, then the LASSO tends to select one variable from a group and ignore the others. To overcome these limitations, the elastic net adds a quadratic part to the penalty, which when used alone is ridge regression (known also as Tikhonov regularization). "
      ]
    },
    {
      "metadata": {
        "id": "nzbfGwT-sowZ",
        "colab_type": "code",
        "colab": {}
      },
      "cell_type": "code",
      "source": [
        "ENet = make_pipeline(RobustScaler(), ElasticNet(alpha=0.0005, l1_ratio=.9, random_state=3))"
      ],
      "execution_count": 0,
      "outputs": []
    },
    {
      "metadata": {
        "id": "tSnWaDI7eCkX",
        "colab_type": "code",
        "outputId": "42ebc31f-6574-4e69-bd65-ed4f3931fbee",
        "colab": {
          "base_uri": "https://localhost:8080/",
          "height": 105
        }
      },
      "cell_type": "code",
      "source": [
        "score = rmsle_cv(ENet)\n",
        "print(\"ElasticNet score: {:.4f} ({:.4f})\\n\".format(score.mean(), score.std()))"
      ],
      "execution_count": 0,
      "outputs": [
        {
          "output_type": "stream",
          "text": [
            "/usr/local/lib/python3.6/dist-packages/sklearn/linear_model/coordinate_descent.py:492: ConvergenceWarning: Objective did not converge. You might want to increase the number of iterations. Fitting data with very small alpha may cause precision problems.\n",
            "  ConvergenceWarning)\n"
          ],
          "name": "stderr"
        },
        {
          "output_type": "stream",
          "text": [
            "ElasticNet score: 9.6255 (0.2400)\n",
            "\n"
          ],
          "name": "stdout"
        }
      ]
    },
    {
      "metadata": {
        "id": "xlS1hmWrQzLy",
        "colab_type": "code",
        "colab": {}
      },
      "cell_type": "code",
      "source": [
        "GBoost = GradientBoostingRegressor(n_estimators=3000, learning_rate=0.05,\n",
        "                                   max_depth=4, max_features='sqrt',\n",
        "                                   min_samples_leaf=15, min_samples_split=10, \n",
        "                                   loss='huber', random_state =5)"
      ],
      "execution_count": 0,
      "outputs": []
    },
    {
      "metadata": {
        "id": "r27EXifPeMRw",
        "colab_type": "code",
        "outputId": "ba24cea4-bd6d-4e69-f6ad-7c2f845acd7d",
        "colab": {
          "base_uri": "https://localhost:8080/",
          "height": 51
        }
      },
      "cell_type": "code",
      "source": [
        "score = rmsle_cv(GBoost)\n",
        "print(\"Gradient Boosting score: {:.4f} ({:.4f})\\n\".format(score.mean(), score.std()))"
      ],
      "execution_count": 0,
      "outputs": [
        {
          "output_type": "stream",
          "text": [
            "Gradient Boosting score: 4.2946 (0.3567)\n",
            "\n"
          ],
          "name": "stdout"
        }
      ]
    },
    {
      "metadata": {
        "id": "izsEkvQCQ81f",
        "colab_type": "code",
        "colab": {}
      },
      "cell_type": "code",
      "source": [
        "model_xgb = xgb.XGBRegressor(colsample_bytree=0.4603, gamma=0.0468, \n",
        "                             learning_rate=0.05, max_depth=3, \n",
        "                             min_child_weight=1.7817, n_estimators=2200,\n",
        "                             reg_alpha=0.4640, reg_lambda=0.8571,\n",
        "                             subsample=0.5213, silent=1,\n",
        "                             random_state =7, nthread = -1)"
      ],
      "execution_count": 0,
      "outputs": []
    },
    {
      "metadata": {
        "id": "2xw13Rx0ePqP",
        "colab_type": "code",
        "outputId": "2af70993-74ea-4c8d-f130-53c1448175bf",
        "colab": {
          "base_uri": "https://localhost:8080/",
          "height": 51
        }
      },
      "cell_type": "code",
      "source": [
        "score = rmsle_cv(model_xgb)\n",
        "print(\"Xgboost score: {:.4f} ({:.4f})\\n\".format(score.mean(), score.std()))"
      ],
      "execution_count": 0,
      "outputs": [
        {
          "output_type": "stream",
          "text": [
            "Xgboost score: 4.4437 (0.1767)\n",
            "\n"
          ],
          "name": "stdout"
        }
      ]
    },
    {
      "metadata": {
        "id": "ZDM0ExRnRJsa",
        "colab_type": "code",
        "outputId": "e060d801-9db6-4751-8cf9-41d47df2b405",
        "colab": {
          "base_uri": "https://localhost:8080/",
          "height": 105
        }
      },
      "cell_type": "code",
      "source": [
        "averaged_models = AveragingModels(models = (ENet, GBoost, model_xgb))\n",
        "\n",
        "score = rmsle_cv(averaged_models)\n",
        "print(\" Averaged base models score: {:.4f} ({:.4f})\\n\".format(score.mean(), score.std()))"
      ],
      "execution_count": 0,
      "outputs": [
        {
          "output_type": "stream",
          "text": [
            "/usr/local/lib/python3.6/dist-packages/sklearn/linear_model/coordinate_descent.py:492: ConvergenceWarning: Objective did not converge. You might want to increase the number of iterations. Fitting data with very small alpha may cause precision problems.\n",
            "  ConvergenceWarning)\n"
          ],
          "name": "stderr"
        },
        {
          "output_type": "stream",
          "text": [
            " Averaged base models score: 5.1439 (0.2506)\n",
            "\n"
          ],
          "name": "stdout"
        }
      ]
    },
    {
      "metadata": {
        "id": "OXI3Vx2EQvi6",
        "colab_type": "text"
      },
      "cell_type": "markdown",
      "source": [
        ""
      ]
    }
  ]
}