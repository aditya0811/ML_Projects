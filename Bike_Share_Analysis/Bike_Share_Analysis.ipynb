{
  "nbformat": 4,
  "nbformat_minor": 0,
  "metadata": {
    "colab": {
      "name": "Bike_Share_Analysis.ipynb",
      "version": "0.3.2",
      "provenance": [],
      "collapsed_sections": []
    },
    "kernelspec": {
      "display_name": "Python 3",
      "language": "python",
      "name": "python3"
    }
  },
  "cells": [
    {
      "metadata": {
        "id": "F-u6aSK-2GUE",
        "colab_type": "text"
      },
      "cell_type": "markdown",
      "source": [
        "#PROJECT OUTCOMES\n",
        "\n",
        "\n",
        "*   How to read csv file without pandas using csv module in python itself\n",
        "*   Using dictionary instead of pandas to deal with data.\n",
        "*   Used datetime object module for analysis.\n",
        "*   Learned how to make stackedbar chart\n",
        "\n"
      ]
    },
    {
      "metadata": {
        "id": "jvP2H8oF04D3",
        "colab_type": "text"
      },
      "cell_type": "markdown",
      "source": [
        "# 2016 US Bike Share Activity Snapshot\n",
        "\n",
        "## Table of Contents\n",
        "- [Introduction](#intro)\n",
        "- [Posing Questions](#pose_questions)\n",
        "- [Data Collection and Wrangling](#wrangling)\n",
        "  - [Condensing the Trip Data](#condensing)\n",
        "- [Exploratory Data Analysis](#eda)\n",
        "  - [Statistics](#statistics)\n",
        "  - [Visualizations](#visualizations)\n",
        "- [Further Analysis](#eda_continued)\n",
        "- [Conclusions](#conclusions)\n",
        "\n",
        "<a id='intro'></a>\n",
        "## Introduction\n",
        "\n",
        "In this project, I performed an exploratory analysis on data provided by [Motivate](https://www.motivateco.com/), a bike-share system provider for many major cities in the United States. I compared the system usage between three large cities: New York City, Chicago, and Washington, DC. I also checked if there are any differences within each system for those users that are registered, regular users and those users that are short-term, casual users."
      ]
    },
    {
      "metadata": {
        "id": "V7gbUIwi04D6",
        "colab_type": "text"
      },
      "cell_type": "markdown",
      "source": [
        "<a id='pose_questions'></a>\n",
        "## Posing Questions\n",
        "\n",
        " What kinds of information would you want to know about in order to make smarter business decisions? If you were a user of the bike-share service, what factors might influence how you would want to use the services\n",
        "\n",
        "1)When are the bikes being used by the users more ,say for which hour are the users asking more for bikes.\n",
        "2)Which route is the busiest and time consuming so that an alternate route can be designed."
      ]
    },
    {
      "metadata": {
        "id": "BbhKRS9504EA",
        "colab_type": "text"
      },
      "cell_type": "markdown",
      "source": [
        "<a id='wrangling'></a>\n",
        "## Data Collection and Wrangling\n",
        "\n",
        "I collected data from various websites resulting in different format datafiles:\n",
        "\n",
        "- New York City (Citi Bike): [Link](https://www.citibikenyc.com/system-data)\n",
        "- Chicago (Divvy): [Link](https://www.divvybikes.com/system-data)\n",
        "- Washington, DC (Capital Bikeshare): [Link](https://www.capitalbikeshare.com/system-data)\n"
      ]
    },
    {
      "metadata": {
        "id": "28motVvz04EC",
        "colab_type": "code",
        "colab": {}
      },
      "cell_type": "code",
      "source": [
        "import csv # read and write csv files\n",
        "from datetime import datetime # operations to parse dates\n",
        "from pprint import pprint # use to print data structures like dictionaries in\n",
        "                          # a nicer way than the base print function."
      ],
      "execution_count": 0,
      "outputs": []
    },
    {
      "metadata": {
        "id": "4m_ehfyS04ER",
        "colab_type": "code",
        "colab": {},
        "outputId": "94bf96ae-6090-4916-fd63-a5ec5e45a3c4"
      },
      "cell_type": "code",
      "source": [
        "def print_first_point(filename):\n",
        "    \"\"\"\n",
        "    This function prints and returns the first data point (second row) from\n",
        "    a csv file that includes a header row.\n",
        "    \"\"\"\n",
        "    # print city name for reference\n",
        "    city = filename.split('-')[0].split('/')[-1]\n",
        "    print('\\nCity: {}'.format(city))\n",
        "    \n",
        "    with open(filename, 'r') as f_in:\n",
        "        \n",
        "        ## Use the csv library to set up a DictReader object. ##\n",
        "        ## see https://docs.python.org/3/library/csv.html           ##\n",
        "        trip_reader =csv.DictReader(f_in)\n",
        "        \n",
        "        ## Use a function on the DictReader object to read the     ##\n",
        "        ## first trip from the data file and store it in a variable.     ##\n",
        "        ## see https://docs.python.org/3/library/csv.html#reader-objects ##\n",
        "        first_trip =next(trip_reader)\n",
        "        \n",
        "        \n",
        "        ## Use the pprint library to print the first trip. ##\n",
        "        ## see https://docs.python.org/3/library/pprint.html     ##\n",
        "        pprint(first_trip)\n",
        "        \n",
        "    # output city name and first trip for later testing\n",
        "    return (city, first_trip)\n",
        "\n",
        "# list of files for each city\n",
        "data_files = ['./data/NYC-CitiBike-2016.csv',\n",
        "              './data/Chicago-Divvy-2016.csv',\n",
        "              './data/Washington-CapitalBikeshare-2016.csv',]\n",
        "\n",
        "# print the first trip from each file, store in dictionary\n",
        "example_trips = {}\n",
        "for data_file in data_files:\n",
        "    city, first_trip = print_first_point(data_file)\n",
        "    example_trips[city] = first_trip"
      ],
      "execution_count": 0,
      "outputs": [
        {
          "output_type": "stream",
          "text": [
            "\n",
            "City: NYC\n",
            "OrderedDict([('tripduration', '839'),\n",
            "             ('starttime', '1/1/2016 00:09:55'),\n",
            "             ('stoptime', '1/1/2016 00:23:54'),\n",
            "             ('start station id', '532'),\n",
            "             ('start station name', 'S 5 Pl & S 4 St'),\n",
            "             ('start station latitude', '40.710451'),\n",
            "             ('start station longitude', '-73.960876'),\n",
            "             ('end station id', '401'),\n",
            "             ('end station name', 'Allen St & Rivington St'),\n",
            "             ('end station latitude', '40.72019576'),\n",
            "             ('end station longitude', '-73.98997825'),\n",
            "             ('bikeid', '17109'),\n",
            "             ('usertype', 'Customer'),\n",
            "             ('birth year', ''),\n",
            "             ('gender', '0')])\n",
            "\n",
            "City: Chicago\n",
            "OrderedDict([('trip_id', '9080545'),\n",
            "             ('starttime', '3/31/2016 23:30'),\n",
            "             ('stoptime', '3/31/2016 23:46'),\n",
            "             ('bikeid', '2295'),\n",
            "             ('tripduration', '926'),\n",
            "             ('from_station_id', '156'),\n",
            "             ('from_station_name', 'Clark St & Wellington Ave'),\n",
            "             ('to_station_id', '166'),\n",
            "             ('to_station_name', 'Ashland Ave & Wrightwood Ave'),\n",
            "             ('usertype', 'Subscriber'),\n",
            "             ('gender', 'Male'),\n",
            "             ('birthyear', '1990')])\n",
            "\n",
            "City: Washington\n",
            "OrderedDict([('Duration (ms)', '427387'),\n",
            "             ('Start date', '3/31/2016 22:57'),\n",
            "             ('End date', '3/31/2016 23:04'),\n",
            "             ('Start station number', '31602'),\n",
            "             ('Start station', 'Park Rd & Holmead Pl NW'),\n",
            "             ('End station number', '31207'),\n",
            "             ('End station', 'Georgia Ave and Fairmont St NW'),\n",
            "             ('Bike number', 'W20842'),\n",
            "             ('Member Type', 'Registered')])\n"
          ],
          "name": "stdout"
        }
      ]
    },
    {
      "metadata": {
        "id": "QrkBTJnm04Eh",
        "colab_type": "text"
      },
      "cell_type": "markdown",
      "source": [
        "### Condensing the Trip Data\n",
        "\n",
        "It should also be observable from the above printout that each city provides different information. Even where the information is the same, the column names and formats are sometimes different. \n",
        "\n",
        "I generated new data files with five values of interest for each trip: trip duration, starting month, starting hour, day of the week, and user type. Each of these require additional wrangling depending on the city:\n",
        "\n",
        "- **Duration**: This has been given to us in seconds (New York, Chicago) or milliseconds (Washington). A more natural unit of analysis will be if all the trip durations are given in terms of minutes.\n",
        "- **Month**, **Hour**, **Day of Week**: Ridership volume is likely to change based on the season, time of day, and whether it is a weekday or weekend. Use the start time of the trip to obtain these values. The New York City data includes the seconds in their timestamps, while Washington and Chicago do not. \n",
        "- **User Type**: It is possible that users who are subscribed to a bike-share system will have different patterns of use compared to users who only have temporary passes. Washington divides its users into two types: 'Registered' for users with annual, monthly, and other longer-term subscriptions, and 'Casual', for users with 24-hour, 3-day, and other short-term passes. The New York and Chicago data uses 'Subscriber' and 'Customer' for these groups, respectively. For consistency, you will convert the Washington labels to match the other two.\n"
      ]
    },
    {
      "metadata": {
        "id": "tolQamAt04Ek",
        "colab_type": "code",
        "colab": {}
      },
      "cell_type": "code",
      "source": [
        "def duration_in_mins(datum, city):\n",
        "    \"\"\"\n",
        "    Takes as input a dictionary containing info about a single trip (datum) and\n",
        "    its origin city (city) and returns the trip duration in units of minutes.\n",
        "    \n",
        "    The Washington is in terms of milliseconds while Chicago and NYC\n",
        "    are in terms of seconds. \n",
        "    \n",
        "    (The csv module reads in all of the data as strings, including numeric\n",
        "    values.) \n",
        "    \"\"\"\n",
        "    if city ==  'NYC':\n",
        "        duration=int(datum['tripduration']) / 60\n",
        "    elif city ==  'Chicago':\n",
        "        duration=int(datum['tripduration']) / 60\n",
        "    else:\n",
        "        duration=int(datum['Duration (ms)']) / 60000\n",
        "    \n",
        "    return duration"
      ],
      "execution_count": 0,
      "outputs": []
    },
    {
      "metadata": {
        "id": "hgC5inmX04Eu",
        "colab_type": "code",
        "colab": {}
      },
      "cell_type": "code",
      "source": [
        "def time_of_trip(datum, city):\n",
        "    \"\"\"\n",
        "    Takes as input a dictionary containing info about a single trip (datum) and\n",
        "    its origin city (city) and returns the month, hour, and day of the week in\n",
        "    which the trip was made.\n",
        "    \n",
        "    The NYC includes seconds, while Washington and Chicago do not.\n",
        "    \n",
        "    # Converted 'month' and 'hour' to Integers to remove leading Zero's.\n",
        "    \"\"\"\n",
        "    if city == 'Washington':\n",
        "        month = int(datetime.strptime(datum['Start date'],\"%m/%d/%Y %H:%M\").strftime('%m'))\n",
        "        hour = int(datetime.strptime(datum['Start date'],\"%m/%d/%Y %H:%M\").strftime('%H'))\n",
        "        day_of_week = datetime.strptime(datum['Start date'],\"%m/%d/%Y %H:%M\").strftime('%A')\n",
        "    elif city == 'Chicago':\n",
        "        month = int(datetime.strptime(datum['starttime'],\"%m/%d/%Y %H:%M\").strftime('%m'))\n",
        "        hour = int(datetime.strptime(datum['starttime'],\"%m/%d/%Y %H:%M\").strftime('%H'))\n",
        "        day_of_week = datetime.strptime(datum['starttime'],\"%m/%d/%Y %H:%M\").strftime('%A')\n",
        "    else :\n",
        "        month = int(datetime.strptime(datum['starttime'],\"%m/%d/%Y %H:%M:%S\").strftime('%m'))\n",
        "        hour = int(datetime.strptime(datum['starttime'],\"%m/%d/%Y %H:%M:%S\").strftime('%H'))\n",
        "        day_of_week = datetime.strptime(datum['starttime'],\"%m/%d/%Y %H:%M:%S\").strftime('%A')\n",
        "   \n",
        "    \n",
        "    return (month, hour, day_of_week)"
      ],
      "execution_count": 0,
      "outputs": []
    },
    {
      "metadata": {
        "id": "KjWJoDx604E1",
        "colab_type": "code",
        "colab": {}
      },
      "cell_type": "code",
      "source": [
        "def type_of_user(datum, city):\n",
        "    \"\"\"\n",
        "    Takes as input a dictionary containing info about a single trip (datum) and\n",
        "    its origin city (city) and returns the type of system user that made the\n",
        "    trip.\n",
        "    \n",
        "    Here Washington has different category names compared to Chicago\n",
        "    and NYC. \n",
        "    \"\"\"\n",
        "    \n",
        "    # YOUR CODE HERE\n",
        "    if city == 'Washington':\n",
        "        if datum['Member Type'] == 'Registered':\n",
        "            user_type = 'Subscriber'\n",
        "        else:\n",
        "            user_type = 'Customer'\n",
        "        \n",
        "    elif city == 'Chicago' or city == 'NYC':\n",
        "        user_type = datum['usertype']\n",
        "    else:\n",
        "        Print(\"invalid\")\n",
        "    \n",
        "    return user_type"
      ],
      "execution_count": 0,
      "outputs": []
    },
    {
      "metadata": {
        "id": "EJm9kPD104E-",
        "colab_type": "text"
      },
      "cell_type": "markdown",
      "source": [
        "Creating a condensed data file for each city consisting only of the data fields indicated above. "
      ]
    },
    {
      "metadata": {
        "id": "ZB2vS3Wx04FB",
        "colab_type": "code",
        "colab": {}
      },
      "cell_type": "code",
      "source": [
        "def condense_data(in_file, out_file, city):\n",
        "    \"\"\"\n",
        "    This function takes full data from the specified input file\n",
        "    and writes the condensed data to a specified output file. The city\n",
        "    argument determines how the input file will be parsed.\n",
        "    \n",
        "    \"\"\"\n",
        "    \n",
        "    with open(out_file, 'w') as f_out, open(in_file, 'r') as f_in:\n",
        "        # setting up csv DictWriter object - writer requires column names for the\n",
        "        # first row as the \"fieldnames\" argument\n",
        "        out_colnames = ['duration', 'month', 'hour', 'day_of_week', 'user_type']        \n",
        "        trip_writer = csv.DictWriter(f_out, fieldnames = out_colnames)\n",
        "        trip_writer.writeheader()\n",
        "        \n",
        "        ## setting up csv DictReader object ##\n",
        "        trip_reader = csv.DictReader(f_in)\n",
        "\n",
        "        # collect data from and process each row\n",
        "        for row in trip_reader:\n",
        "            new_point = {}\n",
        "\n",
        "            new_point['duration'] = duration_in_mins(row, city)\n",
        "            new_point['month'], new_point['hour'], new_point['day_of_week'] = time_of_trip(row, city)\n",
        "            new_point['user_type'] = type_of_user(row, city)\n",
        "            \n",
        "\n",
        "            trip_writer.writerow(new_point)\n",
        "            \n",
        "            "
      ],
      "execution_count": 0,
      "outputs": []
    },
    {
      "metadata": {
        "id": "Drfzajxn04FJ",
        "colab_type": "code",
        "colab": {},
        "outputId": "df07080b-0f98-4daf-d1b8-f0c4071130a1"
      },
      "cell_type": "code",
      "source": [
        "# Run this cell to check your work\n",
        "city_info = {'Washington': {'in_file': './data/Washington-CapitalBikeshare-2016.csv',\n",
        "                            'out_file': './data/Washington-2016-Summary.csv'},\n",
        "             'Chicago': {'in_file': './data/Chicago-Divvy-2016.csv',\n",
        "                         'out_file': './data/Chicago-2016-Summary.csv'},\n",
        "             'NYC': {'in_file': './data/NYC-CitiBike-2016.csv',\n",
        "                     'out_file': './data/NYC-2016-Summary.csv'}}\n",
        "\n",
        "for city, filenames in city_info.items():\n",
        "    condense_data(filenames['in_file'], filenames['out_file'], city)\n",
        "    print_first_point(filenames['out_file'])"
      ],
      "execution_count": 0,
      "outputs": [
        {
          "output_type": "stream",
          "text": [
            "\n",
            "City: Washington\n",
            "OrderedDict([('duration', '7.123116666666666'),\n",
            "             ('month', '3'),\n",
            "             ('hour', '22'),\n",
            "             ('day_of_week', 'Thursday'),\n",
            "             ('user_type', 'Subscriber')])\n",
            "\n",
            "City: Chicago\n",
            "OrderedDict([('duration', '15.433333333333334'),\n",
            "             ('month', '3'),\n",
            "             ('hour', '23'),\n",
            "             ('day_of_week', 'Thursday'),\n",
            "             ('user_type', 'Subscriber')])\n",
            "\n",
            "City: NYC\n",
            "OrderedDict([('duration', '13.983333333333333'),\n",
            "             ('month', '1'),\n",
            "             ('hour', '0'),\n",
            "             ('day_of_week', 'Friday'),\n",
            "             ('user_type', 'Customer')])\n"
          ],
          "name": "stdout"
        }
      ]
    },
    {
      "metadata": {
        "id": "7SlERMHM04Fb",
        "colab_type": "text"
      },
      "cell_type": "markdown",
      "source": [
        "\n",
        "<a id='eda'></a>\n",
        "## Exploratory Data Analysis\n",
        "\n",
        "\n",
        "<a id='statistics'></a>\n",
        "### Statistics\n",
        "\n",
        "First, let's compute some basic counts. The first cell below contains a function that uses the csv module to iterate through a provided data file, returning the number of trips made by subscribers and customers. The second cell runs this function on the example Bay Area data in the `/examples/` folder. Modify the cells to answer the question below.\n",
        "\n",
        "**Question 4a**: Which city has the highest number of trips? Which city has the highest proportion of trips made by subscribers? Which city has the highest proportion of trips made by short-term customers?\n"
      ]
    },
    {
      "metadata": {
        "id": "oRMeRLzd04Fi",
        "colab_type": "code",
        "colab": {}
      },
      "cell_type": "code",
      "source": [
        "def number_of_trips(filename):\n",
        "    \"\"\"\n",
        "    This function reads in a file with trip data and reports the number of\n",
        "    trips made by subscribers, customers, and total overall.\n",
        "    \"\"\"\n",
        "    with open(filename, 'r') as f_in:\n",
        "        reader = csv.DictReader(f_in)\n",
        "        \n",
        "        n_subscribers = 0\n",
        "        n_customers = 0\n",
        "        \n",
        "        # tally up ride types\n",
        "        for row in reader:\n",
        "            if row['user_type'] == 'Subscriber':\n",
        "                n_subscribers += 1\n",
        "            else:\n",
        "                n_customers += 1\n",
        "        \n",
        "        # compute total number of rides\n",
        "        n_total = n_subscribers + n_customers\n",
        "        \n",
        "        # return tallies as a tuple\n",
        "        return(n_subscribers, n_customers, n_total)\n"
      ],
      "execution_count": 0,
      "outputs": []
    },
    {
      "metadata": {
        "id": "34OExodn04Fr",
        "colab_type": "code",
        "colab": {},
        "outputId": "6c5afbe4-4877-462c-e921-d3695450d298"
      },
      "cell_type": "code",
      "source": [
        "data_file_Washington = './data/Washington-2016-Summary.csv'\n",
        "data_file_Chicago = './data/Chicago-2016-Summary.csv'\n",
        "data_file_NYC = './data/NYC-2016-Summary.csv'\n",
        "\n",
        "m,n,o=number_of_trips(data_file_Washington)\n",
        "p=m+n+o\n",
        "m,n,o=number_of_trips(data_file_Chicago)\n",
        "q=m+n+o\n",
        "m,n,o=number_of_trips(data_file_NYC)\n",
        "r=m+n+o\n",
        "s=max(p,q,r)\n",
        "if s==p:\n",
        "    print(\"Washington has most no of trips\")\n",
        "elif s==q:\n",
        "    print(\"Chicago has most no of trips\")\n",
        "else:\n",
        "    print(\"NYC has most no of trips\")\n",
        "    "
      ],
      "execution_count": 0,
      "outputs": [
        {
          "output_type": "stream",
          "text": [
            "NYC has most no of trips\n"
          ],
          "name": "stdout"
        }
      ]
    },
    {
      "metadata": {
        "id": "-RmSe6cH04F6",
        "colab_type": "text"
      },
      "cell_type": "markdown",
      "source": [
        "Maximum trips are for NYC"
      ]
    },
    {
      "metadata": {
        "id": "_QP8qESV04F8",
        "colab_type": "code",
        "colab": {},
        "outputId": "197d11ea-a3bc-4df5-d3f6-0763a9997de5"
      },
      "cell_type": "code",
      "source": [
        "trips_data = {'Washington': {'Subscribers':0, 'Customers':0, 'Total':0},\n",
        "             'Chicago': {'Subscribers':0, 'Customers':0, 'Total':0},\n",
        "             'NYC': {'Subscribers':0, 'Customers':0, 'Total':0}}\n",
        "\n",
        "trips_data['Washington'] = dict(zip(trips_data['Washington'].keys(), number_of_trips(data_file_Washington)))\n",
        "trips_data['Chicago'] = dict(zip(trips_data['Chicago'].keys(), number_of_trips(data_file_Chicago)))\n",
        "trips_data['NYC'] = dict(zip(trips_data['NYC'].keys(), number_of_trips(data_file_NYC)))\n",
        "\n",
        "cities_dict = {1:'Washington' , 2:'Chicago' , 3:'NYC' }\n",
        "\n",
        "\n",
        "proportion = {1: trips_data['Washington']['Subscribers']/trips_data['Washington']['Total'],\n",
        "                  2: trips_data['Chicago']['Subscribers']/trips_data['Chicago']['Total'],\n",
        "                  3: trips_data['NYC']['Subscribers']/trips_data['NYC']['Total']}\n",
        "\n",
        "high_proportion = max(proportion, key=proportion.get)\n",
        "print(\"\\n city with the highest proportion of trips made by short-term customers?\" + \"is \" + cities_dict[high_proportion])\n",
        "\n",
        "data_file = './examples/BayArea-Y3-Summary.csv'\n"
      ],
      "execution_count": 0,
      "outputs": [
        {
          "output_type": "stream",
          "text": [
            "\n",
            " city with the highest proportion of trips made by short-term customers?is NYC\n"
          ],
          "name": "stdout"
        }
      ]
    },
    {
      "metadata": {
        "id": "HXyVCdh904GI",
        "colab_type": "code",
        "colab": {},
        "outputId": "783c28f9-0c3e-497e-91ed-65d89921397b"
      },
      "cell_type": "code",
      "source": [
        "tt_washington = p\n",
        "tt_chicago = q\n",
        "tt_nyc = r\n",
        "def avg_trip_len(filename, city):\n",
        "    \n",
        "  \n",
        "    with open(filename, 'r') as f_in:\n",
        "        #  csv reader object\n",
        "        reader = csv.DictReader(f_in)\n",
        "        \n",
        "    \n",
        "        tt_len = 0\n",
        "        \n",
        "        # total trip length\n",
        "        for row in reader:\n",
        "            tt_len = tt_len + float(row['duration'])\n",
        "        \n",
        "        # total no of rides for each city\n",
        "        if city == 'Washington':\n",
        "            tt = tt_washington\n",
        "        elif city == 'Chicago':\n",
        "            tt = tt_chicago\n",
        "        else:\n",
        "            tt = tt_nyc\n",
        "        \n",
        "       \n",
        "        return(int(tt_len/tt))\n",
        "    \n",
        "\n",
        "avg_trip_len_washington = avg_trip_len(data_file_Washington, 'Washington')\n",
        "avg_trip_len_chicago = avg_trip_len(data_file_Chicago, 'Chicago')\n",
        "avg_trip_len_nyc = avg_trip_len(data_file_NYC, 'NYC')\n",
        "\n",
        "\n",
        "\n",
        "print(\"Avg Trip Len of Washington\" + \" = \" + str(avg_trip_len_washington) + \" Min\")\n",
        "print(\"Avg Trip Len of Chicago\" + \" = \" + str(avg_trip_len_chicago) + \" Min\")\n",
        "print(\"Avg Trip Len of NYC\" + \" = \" + str(avg_trip_len_nyc) + \" Min\")"
      ],
      "execution_count": 0,
      "outputs": [
        {
          "output_type": "stream",
          "text": [
            "Avg Trip Len of Washington = 9 Min\n",
            "Avg Trip Len of Chicago = 8 Min\n",
            "Avg Trip Len of NYC = 7 Min\n"
          ],
          "name": "stdout"
        }
      ]
    },
    {
      "metadata": {
        "id": "GqLQtx3k04GR",
        "colab_type": "code",
        "colab": {},
        "outputId": "227dd5da-4e21-4cf7-e8af-e801c64dee00"
      },
      "cell_type": "code",
      "source": [
        "def long_trip_percent(filename, city):\n",
        "    '''\n",
        "        Get percent of trips that are longer than 30 minutes\n",
        "    '''\n",
        "    m = 30.0\n",
        "    with open(filename, 'r') as f_in:\n",
        "        # csv reader object\n",
        "        reader = csv.DictReader(f_in)\n",
        "        \n",
        "        long_trip_count = 0\n",
        "        \n",
        "        #no of trips longer than 30 Minutes\n",
        "        for row in reader:\n",
        "            if float(row['duration']) > m:\n",
        "                long_trip_count += 1\n",
        "        \n",
        "        #total no. of rides for each city\n",
        "        if city == 'Washington':\n",
        "            tt = tt_washington\n",
        "        elif city == 'Chicago':\n",
        "            tt = tt_chicago\n",
        "        else:\n",
        "            tt = tt_nyc\n",
        "            \n",
        "        # return % of trips that are longer than m=30 minutes\n",
        "        return((round(long_trip_count/tt, 4) * 100))\n",
        "\n",
        "#percentage of trips longer than 30 min for each city\n",
        "long_trip_per_washington = long_trip_percent(data_file_Washington, 'Washington')\n",
        "long_trip_per_chicago = long_trip_percent(data_file_Chicago, 'Chicago')\n",
        "long_trip_per_nyc = long_trip_percent(data_file_NYC, 'NYC')\n",
        "\n",
        "print(\"% trips Longer Than 30 Minutes in Washington\" + \" = \" + str(long_trip_per_washington) + \"%\")\n",
        "print(\"% trips Longer Than 30 Minutes in Chicago\" + \" = \" + str(long_trip_per_chicago) + \"%\")\n",
        "print(\"% trips Longer Than 30 Minutes in NYC\" + \" = \" + str(long_trip_per_nyc) + \"%\")\n"
      ],
      "execution_count": 0,
      "outputs": [
        {
          "output_type": "stream",
          "text": [
            "% trips Longer Than 30 Minutes in Washington = 5.42%\n",
            "% trips Longer Than 30 Minutes in Chicago = 4.17%\n",
            "% trips Longer Than 30 Minutes in NYC = 3.65%\n"
          ],
          "name": "stdout"
        }
      ]
    },
    {
      "metadata": {
        "id": "3JVfRlcY04Gd",
        "colab_type": "text"
      },
      "cell_type": "markdown",
      "source": [
        "\n",
        "\n",
        "**Question 4b**: Bike-share systems are designed for riders to take short trips. Most of the time, users are allowed to take trips of 30 minutes or less with no additional charges, with overage charges made for trips of longer than that duration. What is the average trip length for each city? What proportion of rides made in each city are longer than 30 minutes?\n",
        "\n",
        "**Answer**: 4b)Avg Trip Len of Washington = 9 Min,\n",
        "            Avg Trip Len of Chicago = 8 Min,\n",
        "            Avg Trip Len of NYC = 7 Min,             Percentage Trips Longer Than 30 Minutes in Washington = 5.42%,\n",
        "Percentage Trips Longer Than 30 Minutes in Chicago = 4.17%,\n",
        "Percentage Trips Longer Than 30 Minutes in NYC = 3.65%"
      ]
    },
    {
      "metadata": {
        "id": "Oj0BTlZ904Gr",
        "colab_type": "code",
        "colab": {},
        "outputId": "482eb626-46cb-4c9a-9114-de3c8f5424ac"
      },
      "cell_type": "code",
      "source": [
        "def rides_user_type(filename, city):\n",
        "   \n",
        "    with open(filename, 'r') as f_in:\n",
        "        # csv reader object\n",
        "        reader = csv.DictReader(f_in)\n",
        "        \n",
        "        trip_len_subs = 0\n",
        "        trip_count_subs = 0\n",
        "        \n",
        "        trip_len_customers = 0\n",
        "        trip_count_customers = 0\n",
        "        \n",
        "        # trip length and trip counts for Subscribers and\n",
        "        # Customers in each city.\n",
        "        for row in reader:\n",
        "            if city == 'Washington':\n",
        "                if row['user_type'] == 'Subscriber':\n",
        "                    trip_len_subs += float(row['duration'])\n",
        "                    trip_count_subs += 1\n",
        "                else:\n",
        "                    trip_len_customers += float(row['duration'])\n",
        "                    trip_count_customers += 1\n",
        "            elif city == 'Chicago':\n",
        "                if row['user_type'] == 'Subscriber':\n",
        "                    trip_len_subs += float(row['duration'])\n",
        "                    trip_count_subs += 1\n",
        "                else:\n",
        "                    trip_len_customers += float(row['duration'])\n",
        "                    trip_count_customers += 1\n",
        "            else:\n",
        "                if row['user_type'] == 'Subscriber':\n",
        "                    trip_len_subs += float(row['duration'])\n",
        "                    trip_count_subs += 1\n",
        "                else:\n",
        "                    trip_len_customers += float(row['duration'])\n",
        "                    trip_count_customers += 1\n",
        "              \n",
        "       # return average trip duration for Subscribers and Customers\n",
        "        avg_trip_len_subs = round((trip_len_subs/trip_count_subs), 2)\n",
        "        avg_trip_len_customer = round((trip_len_customers/trip_count_customers), 2)\n",
        "        return(avg_trip_len_subs, avg_trip_len_customer)\n",
        "\n",
        "     \n",
        "avg_trip_len_subs_washington, avg_trip_len_cust_washington = rides_user_type(data_file_Washington, 'Washington')\n",
        "avg_trip_len_subs_chicago, avg_trip_len_cust_chicago = rides_user_type(data_file_Chicago, 'Chicago')\n",
        "avg_trip_len_subs_nyc, avg_trip_len_cust_nyc = rides_user_type(data_file_NYC, 'NYC')\n",
        "\n",
        "print(\"For Washington\" + \" => \" + \"Subscribers Avg Duration = \" + str(avg_trip_len_subs_washington) + \"; Customers Avg Duration = \" + str (avg_trip_len_cust_washington))\n",
        "print(\"For Chicago\" + \" => \" + \"Subscribers Avg Duration = \" + str(avg_trip_len_subs_chicago) + \"; Customers Avg Duration = \" + str (avg_trip_len_cust_chicago))\n",
        "print(\"For NYC\" + \" => \" + \"Subscribers Avg Duration = \" + str(avg_trip_len_subs_nyc) + \"; Customers Avg Duration = \" + str (avg_trip_len_cust_nyc))\n",
        "\n",
        "if (avg_trip_len_subs_washington > avg_trip_len_cust_washington):\n",
        "    print (\"In Washington Subscribers take longer rides than Customers\")\n",
        "else:\n",
        "    print (\"In Washington Customers take longer rides than Subscribers\")\n",
        "    \n",
        "if (avg_trip_len_subs_chicago > avg_trip_len_cust_chicago):\n",
        "    print (\"In Chicago Subscribers take longer rides than Customers\")\n",
        "else:\n",
        "    print (\"In Chicago Customers take longer rides than Subscribers\")\n",
        "    \n",
        "if (avg_trip_len_subs_nyc > avg_trip_len_cust_nyc):\n",
        "    print (\"In NYC Subscribers take longer rides than Customers\")\n",
        "else:\n",
        "    print (\"In NYC Customers take longer rides than Subscribers\")"
      ],
      "execution_count": 0,
      "outputs": [
        {
          "output_type": "stream",
          "text": [
            "For Washington => Subscribers Avg Duration = 12.53; Customers Avg Duration = 41.68\n",
            "For Chicago => Subscribers Avg Duration = 12.07; Customers Avg Duration = 30.98\n",
            "For NYC => Subscribers Avg Duration = 13.68; Customers Avg Duration = 32.78\n",
            "In Washington Customers take longer rides than Subscribers\n",
            "In Chicago Customers take longer rides than Subscribers\n",
            "In NYC Customers take longer rides than Subscribers\n"
          ],
          "name": "stdout"
        }
      ]
    },
    {
      "metadata": {
        "id": "NQW4uPSq04G5",
        "colab_type": "text"
      },
      "cell_type": "markdown",
      "source": [
        "**Question 4c**: Dig deeper into the question of trip duration based on ridership. Choose one city. Within that city, which type of user takes longer rides on average: Subscribers or Customers?\n",
        "\n",
        "**Answer**: In Washington Customers take on an average more trips than Subscribers."
      ]
    },
    {
      "metadata": {
        "id": "Kt-WtmbH04HM",
        "colab_type": "text"
      },
      "cell_type": "markdown",
      "source": [
        "<a id='visualizations'></a>\n",
        "### Visualizations\n",
        "\n",
        "While the mean trip time for Subscribers is well under 30 minutes, the mean trip time for Customers is actually _above_ 30 minutes! It will be interesting for us to look at how the trip times are distributed."
      ]
    },
    {
      "metadata": {
        "id": "Yb0jj3Ob04HO",
        "colab_type": "code",
        "colab": {},
        "outputId": "02bfba3b-849d-4b26-a20e-6c858e203d82"
      },
      "cell_type": "code",
      "source": [
        "import matplotlib.pyplot as plt\n",
        "%matplotlib inline \n",
        "\n",
        "# example histogram, data taken from bay area sample\n",
        "data = [ 7.65,  8.92,  7.42,  5.50, 16.17,  4.20,  8.98,  9.62, 11.48, 14.33,\n",
        "        19.02, 21.53,  3.90,  7.97,  2.62,  2.67,  3.08, 14.40, 12.90,  7.83,\n",
        "        25.12,  8.30,  4.93, 12.43, 10.60,  6.17, 10.88,  4.78, 15.15,  3.53,\n",
        "         9.43, 13.32, 11.72,  9.85,  5.22, 15.10,  3.95,  3.17,  8.78,  1.88,\n",
        "         4.55, 12.68, 12.38,  9.78,  7.63,  6.45, 17.38, 11.90, 11.52,  8.63,]\n",
        "plt.hist(data)\n",
        "plt.title('Distribution of Trip Durations')\n",
        "plt.xlabel('Duration (m)')\n",
        "plt.show()"
      ],
      "execution_count": 0,
      "outputs": [
        {
          "output_type": "display_data",
          "data": {
            "image/png": "[encoded data removed]",
            "text/plain": [
              "<matplotlib.figure.Figure at 0x7f19602761d0>"
            ]
          },
          "metadata": {
            "tags": [],
            "needs_background": "light"
          }
        }
      ]
    },
    {
      "metadata": {
        "id": "WEWIZXRv04HY",
        "colab_type": "text"
      },
      "cell_type": "markdown",
      "source": [
        "In the above cell, we collected fifty trip times in a list, and passed this list as the first argument to the `.hist()` function. \n",
        "\n",
        "I will now use these functions to create a histogram of the trip times for the city selected in question 4c."
      ]
    },
    {
      "metadata": {
        "id": "kS9Eq1Es04Ha",
        "colab_type": "code",
        "colab": {},
        "outputId": "504e91af-ccc2-4350-bf78-cc266da9c59e"
      },
      "cell_type": "code",
      "source": [
        "def ttimes(filename, city):\n",
        "\n",
        "    with open(filename, 'r') as f_in:\n",
        "        # csv reader object\n",
        "        reader = csv.DictReader(f_in)\n",
        "        \n",
        "        ttimes_washington = []\n",
        "        ttimes_chicago = []\n",
        "        ttimes_nyc = []\n",
        "        \n",
        "        # trip time list for each city\n",
        "        for row in reader:\n",
        "            if city == 'Washington':\n",
        "                ttimes_washington.append(float(row['duration']))\n",
        "            elif city == 'Chicago':\n",
        "                ttimes_chicago.append(float(row['duration']))\n",
        "            else:\n",
        "                ttimes_nyc.append(float(row['duration']))\n",
        "              \n",
        "        if city == 'Washington':\n",
        "            return ttimes_washington\n",
        "        elif city == 'Chicago':\n",
        "            return ttimes_chicago\n",
        "        else:\n",
        "            return ttimes_nyc\n",
        "\n",
        "ttimes_washington = ttimes(data_file_Washington, 'Washington')\n",
        "ttimes_chicago = ttimes(data_file_Chicago, 'Chicago')\n",
        "ttimes_nyc = ttimes(data_file_NYC, 'NYC')\n",
        "\n",
        "# Plot the histogram of trip durations for each city\n",
        "plt.hist(ttimes_washington)\n",
        "plt.title('Distribution of Trip Durations for Washington')\n",
        "plt.xlabel('Duration (m)')\n",
        "plt.show()\n",
        "\n",
        "plt.hist(ttimes_chicago)\n",
        "plt.title('Distribution of Trip Durations for Chicago')\n",
        "plt.xlabel('Duration (m)')\n",
        "plt.show()\n",
        "\n",
        "plt.hist(ttimes_nyc)\n",
        "plt.title('Distribution of Trip Durations for NYC')\n",
        "plt.xlabel('Duration (m)')\n",
        "plt.show()"
      ],
      "execution_count": 0,
      "outputs": [
        {
          "output_type": "display_data",
          "data": {
            "image/png": "[encoded data removed]",
            "text/plain": [
              "<matplotlib.figure.Figure at 0x7f193f96c4a8>"
            ]
          },
          "metadata": {
            "tags": [],
            "needs_background": "light"
          }
        },
        {
          "output_type": "display_data",
          "data": {
            "image/png": "[encoded data removed]",
            "text/plain": [
              "<matplotlib.figure.Figure at 0x7f193f95c3c8>"
            ]
          },
          "metadata": {
            "tags": [],
            "needs_background": "light"
          }
        },
        {
          "output_type": "display_data",
          "data": {
            "image/png": "[encoded data removed]",
            "text/plain": [
              "<matplotlib.figure.Figure at 0x7f193ef13d30>"
            ]
          },
          "metadata": {
            "tags": [],
            "needs_background": "light"
          }
        }
      ]
    },
    {
      "metadata": {
        "id": "r4zT3UKc04Hk",
        "colab_type": "code",
        "colab": {}
      },
      "cell_type": "code",
      "source": [
        "def ttimes_subs_cust(filename, city):\n",
        "    '''\n",
        "        Get the trip times for each of the cities.\n",
        "    '''\n",
        "    with open(filename, 'r') as f_in:\n",
        "        # csv reader object\n",
        "        reader = csv.DictReader(f_in)\n",
        "        \n",
        "        ttimes_subs_washington = []\n",
        "        ttimes_cust_washington = []\n",
        "        \n",
        "        \n",
        "        #trip times for Subscribers and Customers for each city\n",
        "        for row in reader:\n",
        "            if city == 'Washington':\n",
        "                if row['user_type'] == 'Subscriber':\n",
        "                    ttimes_subs_washington.append(float(row['duration']))\n",
        "                else:\n",
        "                    ttimes_cust_washington.append(float(row['duration']))\n",
        "              \n",
        "        # return trip duration of Subscribers and Customers for each city\n",
        "        if city == 'Washington':\n",
        "            return (ttimes_subs_washington, ttimes_cust_washington)\n",
        "\n",
        "#trip duration of Subscribers and Customers for Washington\n",
        "ttimes_subs_washington, ttimes_cust_washington = ttimes_subs_cust(data_file_Washington, 'Washington')\n"
      ],
      "execution_count": 0,
      "outputs": []
    },
    {
      "metadata": {
        "id": "MWLtNqA704Hr",
        "colab_type": "code",
        "colab": {},
        "outputId": "97d4f348-f715-4b7a-e240-3fe4bb9b830a"
      },
      "cell_type": "code",
      "source": [
        "f, (plt1, plt2) = plt.subplots(2, sharey=True)\n",
        "plt1.hist(ttimes_subs_washington, range = (0, 75), bins = 16)\n",
        "plt1.set_title('Trip Durations distribution for Washington Subscribers')\n",
        "plt1.set_xlabel('Time in Min')\n",
        "plt1.set_ylabel(\"Trip Duration in Min\")\n",
        "\n",
        "plt2.hist(ttimes_cust_washington, range = (0, 75), bins = 16)\n",
        "plt2.set_title('Trip Durations distribution for Washington Customers')\n",
        "plt2.set_xlabel('Time in Minutes')\n",
        "plt2.set_ylabel(\"Trip Duration in Min\")\n",
        "\n",
        "f.subplots_adjust(hspace=0.25)\n",
        "f.set_figheight(10)\n",
        "f.set_figwidth(15)\n",
        "plt.show()\n"
      ],
      "execution_count": 0,
      "outputs": [
        {
          "output_type": "display_data",
          "data": {
            "image/png": "[encoded data removed]",
            "text/plain": [
              "<matplotlib.figure.Figure at 0x7f194199d0b8>"
            ]
          },
          "metadata": {
            "tags": [],
            "needs_background": "light"
          }
        }
      ]
    },
    {
      "metadata": {
        "id": "TUk1KD6r04H5",
        "colab_type": "code",
        "colab": {}
      },
      "cell_type": "code",
      "source": [
        "## Use this and additional cells to collect all of the trip times as a list ##\n",
        "## and then use pyplot functions to generate a histogram of trip times.     ##\n",
        "\n"
      ],
      "execution_count": 0,
      "outputs": []
    },
    {
      "metadata": {
        "id": "NX2kYWZu04H_",
        "colab_type": "text"
      },
      "cell_type": "markdown",
      "source": [
        "Above plots show high presence of outliers.\n",
        "\n",
        "**Question 5**: Use the parameters of the `.hist()` function to plot the distribution of trip times for the Subscribers in your selected city. Do the same thing for only the Customers. Add limits to the plots so that only trips of duration less than 75 minutes are plotted. As a bonus, set the plots up so that bars are in five-minute wide intervals. For each group, where is the peak of each distribution? How would you describe the shape of each distribution?\n",
        "\n",
        "**Answer**: Replace this text with your response!"
      ]
    },
    {
      "metadata": {
        "collapsed": true,
        "id": "jo11DmsF04IH",
        "colab_type": "text"
      },
      "cell_type": "markdown",
      "source": [
        "## answer Question 5. ##\n",
        "5) The peak is at the Average Trip Duration, Most of the distributons are positively skewed\n",
        "\n",
        "\n"
      ]
    },
    {
      "metadata": {
        "collapsed": true,
        "id": "aBz_c8vY04IJ",
        "colab_type": "text"
      },
      "cell_type": "markdown",
      "source": [
        "<a id='eda_continued'></a>\n",
        "## Further Analysis\n",
        "\n",
        "So far,I have performed an initial exploration into the data available. I compared the relative volume of trips made between three U.S. cities and the ratio of trips made by Subscribers and Customers. For one of these cities, I had investigated differences between Subscribers and Customers in terms of how long a typical trip lasts. \n",
        "\n",
        "- How does ridership differ by month or season? Which month / season has the highest ridership? Does the ratio of Subscriber trips to Customer trips change depending on the month or season?\n",
        "- Is the pattern of ridership different on the weekends versus weekdays? On what days are Subscribers most likely to use the system? What about Customers? Does the average duration of rides change depending on the day of the week?\n",
        "- During what time of day is the system used the most? Is there a difference in usage patterns for Subscribers and Customers?\n"
      ]
    },
    {
      "metadata": {
        "id": "0ODMBWns04IL",
        "colab_type": "code",
        "colab": {},
        "outputId": "1d78a15a-ea53-4921-844e-1a16d0cac6c3"
      },
      "cell_type": "code",
      "source": [
        "# How does ridership differ by month or season? Which month / season has the highest ridership?\n",
        "def duration_by_month(filename):\n",
        "    with open(filename, 'r') as f_in:\n",
        "        #csv reader object\n",
        "        reader = csv.DictReader(f_in)\n",
        "        \n",
        "        duration_month = {1:0, 2:0, 3:0, 4: 0, 5:0, 6:0, 7:0, 8:0, 9:0, 10:0, 11:0, 12:0}\n",
        "        \n",
        "        #trip duration by month\n",
        "        for row in reader:\n",
        "            duration_month[int(row['month'])] += float(row['duration'])\n",
        "                \n",
        "        return (duration_month)\n",
        "\n",
        "\n",
        "duration_by_month_Washington = duration_by_month(data_file_Washington)\n",
        "print(\"Ridership by Month for Washington => \"+ str(duration_by_month_Washington))\n",
        "\n",
        "no_of_months = range(12)\n",
        "plt.figure(figsize=(15,7))\n",
        "plt.bar(no_of_months, duration_by_month_Washington.values(), color='b', align='center')\n",
        "plt.xticks(no_of_months, duration_by_month_Washington.keys())\n",
        "plt.xlabel(\"Month of the Year\")\n",
        "plt.ylabel(\"Trip Duration in Minutes\")\n",
        "plt.title(\"Ridership by Month for Washington\", fontsize=15)\n",
        "plt.show()"
      ],
      "execution_count": 0,
      "outputs": [
        {
          "output_type": "stream",
          "text": [
            "Ridership by Month for Washington => {1: 31140.223600000107, 2: 36565.14208333328, 3: 110075.18485000047, 4: 109825.68944999986, 5: 116117.24186666649, 6: 153950.80770000006, 7: 168083.57223333383, 8: 134724.9150000009, 9: 131644.45458333314, 10: 125110.32186666655, 11: 89993.60525000017, 12: 48510.61320000002}\n"
          ],
          "name": "stdout"
        },
        {
          "output_type": "display_data",
          "data": {
            "image/png": "[encoded data removed]",
            "text/plain": [
              "<matplotlib.figure.Figure at 0x7f193e891d30>"
            ]
          },
          "metadata": {
            "tags": [],
            "needs_background": "light"
          }
        }
      ]
    },
    {
      "metadata": {
        "id": "itAmgua504IW",
        "colab_type": "code",
        "colab": {},
        "outputId": "54718306-876e-42b7-aa87-c8c1002ff605"
      },
      "cell_type": "code",
      "source": [
        "# Does the ratio of Subscriber trips to Customer trips change depending on the month or season?\n",
        "def trips_by_month(filename, user_type):\n",
        "    with open(filename, 'r') as f_in:\n",
        "        #csv reader object\n",
        "        reader = csv.DictReader(f_in)\n",
        "\n",
        "        trips_month = {1:0, 2:0, 3:0, 4: 0, 5:0, 6:0, 7:0, 8:0, 9:0, 10:0, 11:0, 12:0}\n",
        "        \n",
        "        for row in reader:\n",
        "            if user_type == 'Subscriber' and row['user_type'] == 'Subscriber':\n",
        "                trips_month[int(row['month'])] += 1\n",
        "            elif user_type == 'Customer' and row['user_type'] == 'Customer':\n",
        "                trips_month[int(row['month'])] += 1\n",
        "                \n",
        "        return (trips_month)\n",
        "\n",
        "\n",
        "trips_month_subs = trips_by_month(data_file_Washington, 'Subscriber')\n",
        "print(\"Subscriber_Trips_by_Month - \" + str(trips_month_subs))\n",
        "\n",
        "trips_month_cust = trips_by_month(data_file_Washington, 'Customer')\n",
        "print(\"Customer_Trips_by_Month - \" + str(trips_month_cust))\n",
        "\n",
        "no_of_months = range(12)\n",
        "plt.figure(figsize=(15,7))\n",
        "plt.bar(no_of_months, trips_month_subs.values(), color='b', align='center')\n",
        "plt.bar(no_of_months, trips_month_cust.values(), color='c', align='center')\n",
        "plt.legend(('Subscriber Trips','Customer Trips'))\n",
        "plt.xticks(no_of_months, trips_month_subs.keys())\n",
        "plt.xlabel(\"Month of the Year\")\n",
        "plt.ylabel(\"No of Trips\")\n",
        "plt.title(\"Ratio of Subscriber Trips to Customer Trips\", fontsize=15)\n",
        "plt.show()\n",
        "\n",
        "ratio_of_trips = {mon: round(trips_month_subs[mon]/trips_month_cust[mon],2) for mon in trips_month_subs}\n",
        "print(\"Ratio of Subscriber to Customer Trips => \" + str(ratio_of_trips))\n",
        "\n",
        "no_of_months = range(12)\n",
        "plt.figure(figsize=(15,7))\n",
        "plt.bar(no_of_months, ratio_of_trips.values(), color='g', align='center')\n",
        "plt.xticks(no_of_months, ratio_of_trips.keys())\n",
        "plt.xlabel('Month of the Year')\n",
        "plt.ylabel(\"Trip Ratio's\")\n",
        "plt.title(\"Ratio of Subscriber Trips to Customer Trips\", fontsize=15)\n",
        "plt.show()"
      ],
      "execution_count": 0,
      "outputs": [
        {
          "output_type": "stream",
          "text": [
            "Subscriber_Trips_by_Month - {1: 2212, 2: 2571, 3: 4383, 4: 4410, 5: 4520, 6: 5613, 7: 5155, 8: 5392, 9: 5204, 10: 5232, 11: 4139, 12: 2922}\n",
            "Customer_Trips_by_Month - {1: 222, 2: 283, 3: 1188, 4: 1192, 5: 1248, 6: 1707, 7: 2186, 8: 1806, 9: 1674, 10: 1560, 11: 1075, 12: 432}\n"
          ],
          "name": "stdout"
        },
        {
          "output_type": "display_data",
          "data": {
            "image/png": "[encoded data removed]",
            "text/plain": [
              "<matplotlib.figure.Figure at 0x7f193ee9c898>"
            ]
          },
          "metadata": {
            "tags": [],
            "needs_background": "light"
          }
        },
        {
          "output_type": "stream",
          "text": [
            "Ratio of Subscriber to Customer Trips => {1: 9.96, 2: 9.08, 3: 3.69, 4: 3.7, 5: 3.62, 6: 3.29, 7: 2.36, 8: 2.99, 9: 3.11, 10: 3.35, 11: 3.85, 12: 6.76}\n"
          ],
          "name": "stdout"
        },
        {
          "output_type": "display_data",
          "data": {
            "image/png": "[encoded data removed]",
            "text/plain": [
              "<matplotlib.figure.Figure at 0x7f193e7dd860>"
            ]
          },
          "metadata": {
            "tags": [],
            "needs_background": "light"
          }
        }
      ]
    },
    {
      "metadata": {
        "id": "A_2d9cQC04Ie",
        "colab_type": "code",
        "colab": {}
      },
      "cell_type": "code",
      "source": [
        "## Use this and additional cells to continue to explore the dataset. ##\n",
        "## Once you have performed your exploration, document your findings  ##\n",
        "## in the Markdown cell above.                                       ##"
      ],
      "execution_count": 0,
      "outputs": []
    },
    {
      "metadata": {
        "id": "GLAROJGT04Ip",
        "colab_type": "text"
      },
      "cell_type": "markdown",
      "source": [
        "<a id='conclusions'></a>\n",
        "## Conclusions\n",
        "**Further developments**\n",
        "  As another example, weather has potential to have a large impact on daily ridership. \n",
        "\n",
        "*   Drawing conclusions about the data by performing a statistical test or fitting the data to a model for making predictions.\n",
        "*   Where are the most commonly used docks? \n",
        "*   What are the most common routes?\n",
        "*   How much is ridership impacted when there is rain or snow? \n",
        "*   How the subscribers or customers affected more by changes in weather?\n"
      ]
    },
    {
      "metadata": {
        "id": "I3MHIUde04Is",
        "colab_type": "code",
        "colab": {},
        "outputId": "659742b1-ff98-46b8-beb1-181a3f456bc1"
      },
      "cell_type": "code",
      "source": [
        "from subprocess import call\n",
        "call(['python', '-m', 'nbconvert', 'Bike_Share_Analysis.ipynb'])"
      ],
      "execution_count": 0,
      "outputs": [
        {
          "output_type": "execute_result",
          "data": {
            "text/plain": [
              "0"
            ]
          },
          "metadata": {
            "tags": []
          },
          "execution_count": 25
        }
      ]
    },
    {
      "metadata": {
        "id": "D1i1WX1k04I3",
        "colab_type": "code",
        "colab": {}
      },
      "cell_type": "code",
      "source": [
        ""
      ],
      "execution_count": 0,
      "outputs": []
    }
  ]
}