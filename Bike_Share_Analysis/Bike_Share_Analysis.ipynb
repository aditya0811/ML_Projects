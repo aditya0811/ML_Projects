{
 "cells": [
  {
   "cell_type": "markdown",
   "metadata": {},
   "source": [
    "# 2016 US Bike Share Activity \n",
    "\n",
    "## Table of Contents\n",
    "- [Introduction](#intro)\n",
    "- [Posing Questions](#pose_questions)\n",
    "- [Data Collection and Wrangling](#wrangling)\n",
    "  - [Condensing the Trip Data](#condensing)\n",
    "- [Exploratory Data Analysis](#eda)\n",
    "  - [Statistics](#statistics)\n",
    "  - [Visualizations](#visualizations)\n",
    "- [Performing Your Own Analysis](#eda_continued)\n",
    "- [Conclusions](#conclusions)\n",
    "\n",
    "<a id='intro'></a>\n",
    "## Introduction\n",
    "\n",
    "Over the past decade, bicycle-sharing systems have been growing in number and popularity in cities across the world. Bicycle-sharing systems allow users to rent bicycles for short trips, typically 30 minutes or less. Thanks to the rise in information technologies, it is easy for a user of the system to access a dock within the system to unlock or return bicycles. These technologies also provide a wealth of data that can be used to explore how these bike-sharing systems are used.\n",
    "\n",
    "In this project, I performed an exploratory analysis on data provided by [Motivate](https://www.motivateco.com/), a bike-share system provider for many major cities in the United States. I compared the system usage between three large cities: New York City, Chicago, and Washington, DC.  also noted doen the differences within each system for those users that are registered, regular users and those users that are short-term, casual users."
   ]
  },
  {
   "cell_type": "markdown",
   "metadata": {},
   "source": [
    "<a id='wrangling'></a>\n",
    "## Data Wrangling\n",
    "\n",
    "In this project, I will focus on the record of individual trips taken in 2016 from our selected cities: New York City, Chicago, and Washington, DC. Each of these cities has a page where we can freely download the trip data.:\n",
    "\n",
    "- New York City (Citi Bike): [Link](https://www.citibikenyc.com/system-data)\n",
    "- Chicago (Divvy): [Link](https://www.divvybikes.com/system-data)\n",
    "- Washington, DC (Capital Bikeshare): [Link](https://www.capitalbikeshare.com/system-data)\n",
    "\n",
    "There are some inconsistency in data between 3 files which we collected ,so we will now make them consistent to work with the data."
   ]
  },
  {
   "cell_type": "code",
   "execution_count": 1,
   "metadata": {
    "collapsed": true
   },
   "outputs": [],
   "source": [
    "## importing all necessary packages and functions.\n",
    "import csv # read and write csv files\n",
    "from datetime import datetime # operations to parse dates\n",
    "from pprint import pprint # use to print data structures like dictionaries in\n",
    "                          # a nicer way than the base print function."
   ]
  },
  {
   "cell_type": "code",
   "execution_count": 2,
   "metadata": {},
   "outputs": [
    {
     "name": "stdout",
     "output_type": "stream",
     "text": [
      "\n",
      "City: NYC\n",
      "OrderedDict([('tripduration', '839'),\n",
      "             ('starttime', '1/1/2016 00:09:55'),\n",
      "             ('stoptime', '1/1/2016 00:23:54'),\n",
      "             ('start station id', '532'),\n",
      "             ('start station name', 'S 5 Pl & S 4 St'),\n",
      "             ('start station latitude', '40.710451'),\n",
      "             ('start station longitude', '-73.960876'),\n",
      "             ('end station id', '401'),\n",
      "             ('end station name', 'Allen St & Rivington St'),\n",
      "             ('end station latitude', '40.72019576'),\n",
      "             ('end station longitude', '-73.98997825'),\n",
      "             ('bikeid', '17109'),\n",
      "             ('usertype', 'Customer'),\n",
      "             ('birth year', ''),\n",
      "             ('gender', '0')])\n",
      "\n",
      "City: Chicago\n",
      "OrderedDict([('trip_id', '9080545'),\n",
      "             ('starttime', '3/31/2016 23:30'),\n",
      "             ('stoptime', '3/31/2016 23:46'),\n",
      "             ('bikeid', '2295'),\n",
      "             ('tripduration', '926'),\n",
      "             ('from_station_id', '156'),\n",
      "             ('from_station_name', 'Clark St & Wellington Ave'),\n",
      "             ('to_station_id', '166'),\n",
      "             ('to_station_name', 'Ashland Ave & Wrightwood Ave'),\n",
      "             ('usertype', 'Subscriber'),\n",
      "             ('gender', 'Male'),\n",
      "             ('birthyear', '1990')])\n",
      "\n",
      "City: Washington\n",
      "OrderedDict([('Duration (ms)', '427387'),\n",
      "             ('Start date', '3/31/2016 22:57'),\n",
      "             ('End date', '3/31/2016 23:04'),\n",
      "             ('Start station number', '31602'),\n",
      "             ('Start station', 'Park Rd & Holmead Pl NW'),\n",
      "             ('End station number', '31207'),\n",
      "             ('End station', 'Georgia Ave and Fairmont St NW'),\n",
      "             ('Bike number', 'W20842'),\n",
      "             ('Member Type', 'Registered')])\n"
     ]
    }
   ],
   "source": [
    "def print_first_point(filename):\n",
    "    \"\"\"\n",
    "    This function prints and returns the first data point (second row) from\n",
    "    a csv file that includes a header row.\n",
    "    \"\"\"\n",
    "    # print city name for reference\n",
    "    city = filename.split('-')[0].split('/')[-1]\n",
    "    print('\\nCity: {}'.format(city))\n",
    "    \n",
    "    with open(filename, 'r') as f_in:\n",
    "        trip_reader =csv.DictReader(f_in)\n",
    "        first_trip =next(trip_reader)\n",
    "        pprint(first_trip)\n",
    "        \n",
    "    # output city name and first trip \n",
    "    return (city, first_trip)\n",
    "\n",
    "# list of files for each city\n",
    "data_files = ['./data/NYC-CitiBike-2016.csv',\n",
    "              './data/Chicago-Divvy-2016.csv',\n",
    "              './data/Washington-CapitalBikeshare-2016.csv',]\n",
    "\n",
    "# print the first trip from each file, store in dictionary\n",
    "example_trips = {}\n",
    "for data_file in data_files:\n",
    "    city, first_trip = print_first_point(data_file)\n",
    "    example_trips[city] = first_trip"
   ]
  },
  {
   "cell_type": "markdown",
   "metadata": {},
   "source": [
    "Here we can see the printout of each city name (which has been parsed from the data file name) that the first trip has been parsed in the form of a dictionary. When we set up a `DictReader` object, the first row of the data file is normally interpreted as column names. Every other row in the data file will use those column names as keys, as a dictionary is generated for each row.\n",
    "\n",
    "This will be useful since we can refer to quantities by an easily-understandable label instead of just a numeric index. For example, if we have a trip stored in the variable `row`, then we would rather get the trip duration from `row['duration']` instead of `row[0]`.\n",
    "\n",
    "<a id='condensing'></a>\n",
    "### Condensing the Trip Data\n",
    "\n",
    "It should also be observable from the above printout that each city provides different information. Even where the information is the same, the column names and formats are sometimes different. To make things as simple as possible I trimmed and cleaned the data. Cleaning the data makes sure that the data formats across the cities are consistent, while trimming focuses only on the parts of the data we are most interested in to make the exploration easier to work with.\n",
    "\n",
    "We will generate new data files with five values of interest for each trip: trip duration, starting month, starting hour, day of the week, and user type. Each of these may require additional wrangling depending on the city:\n",
    "\n",
    "- **Duration**: This has been given to us in seconds (New York, Chicago) or milliseconds (Washington). A more natural unit of analysis will be if all the trip durations are given in terms of minutes.\n",
    "- **Month**, **Hour**, **Day of Week**: Ridership volume is likely to change based on the season, time of day, and whether it is a weekday or weekend. Use the start time of the trip to obtain these values. The New York City data includes the seconds in their timestamps, while Washington and Chicago do not. The [`datetime`](https://docs.python.org/3/library/datetime.html) package will be very useful here to make the needed conversions.\n",
    "- **User Type**: It is possible that users who are subscribed to a bike-share system will have different patterns of use compared to users who only have temporary passes. Washington divides its users into two types: 'Registered' for users with annual, monthly, and other longer-term subscriptions, and 'Casual', for users with 24-hour, 3-day, and other short-term passes. The New York and Chicago data uses 'Subscriber' and 'Customer' for these groups, respectively. For consistency, you will convert the Washington labels to match the other two.\n",
    "\n"
   ]
  },
  {
   "cell_type": "markdown",
   "metadata": {},
   "source": [
    "#### Converting duration to minutes for each of the city"
   ]
  },
  {
   "cell_type": "code",
   "execution_count": 3,
   "metadata": {
    "collapsed": true
   },
   "outputs": [],
   "source": [
    "def duration_in_mins(datum, city):\n",
    "    \"\"\"\n",
    "    Takes as input a dictionary containing info about a single trip (datum) and\n",
    "    its origin city (city) and returns the trip duration in units of minutes.\n",
    "    \n",
    "    \"\"\"\n",
    "    if city ==  'NYC':\n",
    "        duration=int(datum['tripduration']) / 60\n",
    "    elif city ==  'Chicago':\n",
    "        duration=int(datum['tripduration']) / 60\n",
    "    else:\n",
    "        duration=int(datum['Duration (ms)']) / 60000\n",
    "   \n",
    "    return duration\n"
   ]
  },
  {
   "cell_type": "markdown",
   "metadata": {},
   "source": [
    "#### Calculating time of trip using start date and end date(both are read as datetime object)"
   ]
  },
  {
   "cell_type": "code",
   "execution_count": 4,
   "metadata": {
    "collapsed": true
   },
   "outputs": [],
   "source": [
    "def time_of_trip(datum, city):\n",
    "    \"\"\"\n",
    "    Takes as input a dictionary containing info about a single trip (datum) and\n",
    "    its origin city (city) and returns the month, hour, and day of the week in\n",
    "    which the trip was made.\n",
    "    \n",
    "   \"\"\"\n",
    "    # Converted 'month' and 'hour' to Integers to remove leading Zero's.\n",
    "    \n",
    "    if city == 'Washington':\n",
    "        month = int(datetime.strptime(datum['Start date'],\"%m/%d/%Y %H:%M\").strftime('%m'))\n",
    "        hour = int(datetime.strptime(datum['Start date'],\"%m/%d/%Y %H:%M\").strftime('%H'))\n",
    "        day_of_week = datetime.strptime(datum['Start date'],\"%m/%d/%Y %H:%M\").strftime('%A')\n",
    "    elif city == 'Chicago':\n",
    "        month = int(datetime.strptime(datum['starttime'],\"%m/%d/%Y %H:%M\").strftime('%m'))\n",
    "        hour = int(datetime.strptime(datum['starttime'],\"%m/%d/%Y %H:%M\").strftime('%H'))\n",
    "        day_of_week = datetime.strptime(datum['starttime'],\"%m/%d/%Y %H:%M\").strftime('%A')\n",
    "    else :\n",
    "        month = int(datetime.strptime(datum['starttime'],\"%m/%d/%Y %H:%M:%S\").strftime('%m'))\n",
    "        hour = int(datetime.strptime(datum['starttime'],\"%m/%d/%Y %H:%M:%S\").strftime('%H'))\n",
    "        day_of_week = datetime.strptime(datum['starttime'],\"%m/%d/%Y %H:%M:%S\").strftime('%A')\n",
    "   \n",
    "    \n",
    "    return (month, hour, day_of_week)"
   ]
  },
  {
   "cell_type": "markdown",
   "metadata": {},
   "source": [
    "#### Type of User ,here we converted every user into two types.The problem here was though the words mean same but we need to make our data consistent ,hence we converted each city's type_of_user into two types Subscriber,Customer"
   ]
  },
  {
   "cell_type": "code",
   "execution_count": 5,
   "metadata": {
    "collapsed": true
   },
   "outputs": [],
   "source": [
    "def type_of_user(datum, city):\n",
    "    \"\"\"\n",
    "    Takes as input a dictionary containing info about a single trip (datum) and\n",
    "    its origin city (city) and returns the type of system user that made the\n",
    "    trip.\n",
    "\n",
    "    \"\"\"\n",
    "    \n",
    "    if city == 'Washington':\n",
    "        if datum['Member Type'] == 'Registered':\n",
    "            user_type = 'Subscriber'\n",
    "        else:\n",
    "            user_type = 'Customer'\n",
    "        \n",
    "    elif city == 'Chicago' or city == 'NYC':\n",
    "        user_type = datum['usertype']\n",
    "    else:\n",
    "        Print(\"invalid\")\n",
    "    \n",
    "    return user_type\n",
    "\n",
    "tests = {'NYC': 'Customer',\n",
    "         'Chicago': 'Subscriber',\n",
    "         'Washington': 'Subscriber'}\n"
   ]
  },
  {
   "cell_type": "markdown",
   "metadata": {},
   "source": [
    "#### Now,  we use the helper functions to create a condensed data file for each city consisting only of the data fields indicated above. "
   ]
  },
  {
   "cell_type": "code",
   "execution_count": 1,
   "metadata": {
    "collapsed": true
   },
   "outputs": [],
   "source": [
    "def condense_data(in_file, out_file, city):\n",
    "    \"\"\"\n",
    "    This function takes full data from the specified input file\n",
    "    and writes the condensed data to a specified output file. The city\n",
    "    argument determines how the input file will be parsed.\n",
    "\n",
    "    \"\"\"\n",
    "    \n",
    "    with open(out_file, 'w') as f_out, open(in_file, 'r') as f_in\n",
    "        # first row as the \"fieldnames\" argument\n",
    "        out_colnames = ['duration', 'month', 'hour', 'day_of_week', 'user_type']        \n",
    "        trip_writer = csv.DictWriter(f_out, fieldnames = out_colnames)\n",
    "        trip_writer.writeheader()\n",
    "\n",
    "        trip_reader = csv.DictReader(f_in)\n",
    "        for row in trip_reader:\n",
    "            new_point = {}\n",
    "\n",
    "            new_point['duration'] = duration_in_mins(row, city)\n",
    "            new_point['month'], new_point['hour'], new_point['day_of_week'] = time_of_trip(row, city)\n",
    "            new_point['user_type'] = type_of_user(row, city)\n",
    "            \n",
    "        trip_writer.writerow(new_point)\n",
    "            \n",
    "            "
   ]
  },
  {
   "cell_type": "code",
   "execution_count": 7,
   "metadata": {},
   "outputs": [
    {
     "name": "stdout",
     "output_type": "stream",
     "text": [
      "\n",
      "City: Washington\n",
      "OrderedDict([('duration', '7.123116666666666'),\n",
      "             ('month', '3'),\n",
      "             ('hour', '22'),\n",
      "             ('day_of_week', 'Thursday'),\n",
      "             ('user_type', 'Subscriber')])\n",
      "\n",
      "City: Chicago\n",
      "OrderedDict([('duration', '15.433333333333334'),\n",
      "             ('month', '3'),\n",
      "             ('hour', '23'),\n",
      "             ('day_of_week', 'Thursday'),\n",
      "             ('user_type', 'Subscriber')])\n",
      "\n",
      "City: NYC\n",
      "OrderedDict([('duration', '13.983333333333333'),\n",
      "             ('month', '1'),\n",
      "             ('hour', '0'),\n",
      "             ('day_of_week', 'Friday'),\n",
      "             ('user_type', 'Customer')])\n"
     ]
    }
   ],
   "source": [
    "\n",
    "city_info = {'Washington': {'in_file': './data/Washington-CapitalBikeshare-2016.csv',\n",
    "                            'out_file': './data/Washington-2016-Summary.csv'},\n",
    "             'Chicago': {'in_file': './data/Chicago-Divvy-2016.csv',\n",
    "                         'out_file': './data/Chicago-2016-Summary.csv'},\n",
    "             'NYC': {'in_file': './data/NYC-CitiBike-2016.csv',\n",
    "                     'out_file': './data/NYC-2016-Summary.csv'}}\n",
    "\n",
    "for city, filenames in city_info.items():\n",
    "    condense_data(filenames['in_file'], filenames['out_file'], city)\n",
    "    print_first_point(filenames['out_file'])"
   ]
  },
  {
   "cell_type": "markdown",
   "metadata": {},
   "source": [
    "\n",
    "\n",
    "<a id='eda'></a>\n",
    "## Exploratory Data Analysis\n",
    "\n",
    "Now we have the data collected and wrangled, so we can start exploring the data. In this section I will write some code to compute descriptive statistics from the data. \n",
    "\n",
    "<a id='statistics'></a>\n",
    "### Statistics\n",
    "\n",
    "First, let's compute some basic counts. The first cell below contains a function that uses the csv module to iterate through a provided data file, returning the number of trips made by subscribers and customers. \n",
    "\n",
    "**Question **: Which city has the highest number of trips? Which city has the highest proportion of trips made by subscribers? Which city has the highest proportion of trips made by short-term customers?\n",
    "\n",
    "**Answer**: NYC has most no of trips,Chicago has highest proportion of trips made by short-term customers,\n",
    "NYC has highest proportion of trips made by subscribers\n"
   ]
  },
  {
   "cell_type": "code",
   "execution_count": 8,
   "metadata": {
    "collapsed": true
   },
   "outputs": [],
   "source": [
    "def no_of_trips(filename):\n",
    "    with open(filename, 'r') as f_in:\n",
    "        \n",
    "        reader = csv.DictReader(f_in)\n",
    "\n",
    "        no_of_subscribers = 0\n",
    "        no_of_customers = 0\n",
    "\n",
    "        for row in reader:\n",
    "            if row['user_type'] == 'Subscriber':\n",
    "                no_of_subscribers += 1\n",
    "            else:\n",
    "                no_of_customers += 1\n",
    "        \n",
    "        no_of_total = no_of_subscribers + no_of_customers\n",
    "        \n",
    "        return(no_of_subscribers, no_of_customers, no_of_total)\n"
   ]
  },
  {
   "cell_type": "code",
   "execution_count": 10,
   "metadata": {},
   "outputs": [
    {
     "name": "stdout",
     "output_type": "stream",
     "text": [
      "NYC has most no of trips\n"
     ]
    }
   ],
   "source": [
    "data_file_Washington = './data/Washington-2016-Summary.csv'\n",
    "data_file_Chicago = './data/Chicago-2016-Summary.csv'\n",
    "data_file_NYC = './data/NYC-2016-Summary.csv'\n",
    "\n",
    "a,b,c=no_of_trips(data_file_Washington)\n",
    "e,f,g=no_of_trips(data_file_Chicago)\n",
    "i,j,k=no_of_trips(data_file_NYC)\n",
    "s=max(c,g,k)\n",
    "if c==s:\n",
    "    print(\"Washington has most no of trips\")\n",
    "elif g==s:\n",
    "    print(\"Chicago has most no of trips\")\n",
    "else:\n",
    "    print(\"NYC has most no of trips\")\n",
    "    "
   ]
  },
  {
   "cell_type": "markdown",
   "metadata": {},
   "source": [
    "Maximum trips are for NYC"
   ]
  },
  {
   "cell_type": "code",
   "execution_count": null,
   "metadata": {
    "collapsed": true
   },
   "outputs": [],
   "source": [
    "\n",
    "#For Washington\n",
    "prop1=a/c\n",
    "prop4=b/c\n",
    "\n",
    "#For Chicago\n",
    "prop2 = e/g\n",
    "prop5=f/g\n",
    "\n",
    "#For NYC\n",
    "prop3= i/k\n",
    "prop6=j/k\n",
    "max_prop_short_term= max(prop1,prop2,prop3)\n",
    "max_prop_subs=max(prop4,prop5,prop6)\n",
    "if max_prop_subs==prop4:\n",
    "    print(\"Washington has highest proportion of trips made by short-term customers\")\n",
    "elif max_prop_subs==prop5 :\n",
    "    print(\"Chicago has highest proportion of trips made by short-term customers\")\n",
    "else:\n",
    "    print(\"NYC has highest proportion of trips made by short-term customers\")\n",
    "\n",
    "if max_prop_short_term==prop1:\n",
    "    print(\"Washington has highest proportion of trips made by subscribers\")\n",
    "elif max_prop_short_term==prop2:\n",
    "    print(\"Chicago has highest proportion of trips made by subscribers\")\n",
    "else:\n",
    "    print(\"NYC has highest proportion of trips made by subscribers\")\n",
    "    \n",
    "data_file = './examples/BayArea-Y3-Summary.csv'\n"
   ]
  },
  {
   "cell_type": "code",
   "execution_count": 11,
   "metadata": {},
   "outputs": [
    {
     "name": "stdout",
     "output_type": "stream",
     "text": [
      "Avg Trip Len of Washington is 18 Min\n",
      "Avg Trip Len of Chicago is 16 Min\n",
      "Avg Trip Len of NYC is 15 Min\n"
     ]
    }
   ],
   "source": [
    "tt_washington = c\n",
    "tt_chicago = g\n",
    "tt_nyc = k\n",
    "def avg_trip_len(filename, city):\n",
    "    with open(filename, 'r') as f_in:\n",
    "        reader = csv.DictReader(f_in)\n",
    "        tt_len = 0\n",
    "        for row in reader:\n",
    "            tt_len = tt_len + float(row['duration'])\n",
    "        if city == 'Washington':\n",
    "            tt = tt_washington\n",
    "        elif city == 'Chicago':\n",
    "            tt = tt_chicago\n",
    "        else:\n",
    "            tt = tt_nyc\n",
    "    return(int(tt_len/tt))\n",
    "    \n",
    "avg_trip_len_washington = avg_trip_len(data_file_Washington, 'Washington')\n",
    "avg_trip_len_chicago = avg_trip_len(data_file_Chicago, 'Chicago')\n",
    "avg_trip_len_nyc = avg_trip_len(data_file_NYC, 'NYC')\n",
    "\n",
    "print(\"Avg Trip Len of Washington is \" + str(avg_trip_len_washington) + \" Min\")\n",
    "print(\"Avg Trip Len of Chicago is \"  + str(avg_trip_len_chicago) + \" Min\")\n",
    "print(\"Avg Trip Len of NYC is \" + str(avg_trip_len_nyc) + \" Min\")"
   ]
  },
  {
   "cell_type": "code",
   "execution_count": 12,
   "metadata": {},
   "outputs": [
    {
     "name": "stdout",
     "output_type": "stream",
     "text": [
      "% trips>30min in Washington is = 10.84%\n",
      "% trips>30min in Chicago is = 8.33%\n",
      "% trips>30min in NYC is = 7.3%\n"
     ]
    }
   ],
   "source": [
    "def long_trip_percent(filename, city):\n",
    "    m = 30.0\n",
    "    with open(filename, 'r') as f_in:\n",
    "        reader = csv.DictReader(f_in)\n",
    "        long_trip_count = 0\n",
    "        for row in reader:\n",
    "            if float(row['duration']) > m:\n",
    "                long_trip_count += 1\n",
    "        if city == 'Washington':\n",
    "            tt = tt_washington\n",
    "        elif city == 'Chicago':\n",
    "            tt = tt_chicago\n",
    "        else:\n",
    "            tt = tt_nyc\n",
    "        return((round(long_trip_count/tt, 4) * 100))\n",
    "\n",
    "long_trip_per_washington = long_trip_percent(data_file_Washington, 'Washington')\n",
    "long_trip_per_chicago = long_trip_percent(data_file_Chicago, 'Chicago')\n",
    "long_trip_per_nyc = long_trip_percent(data_file_NYC, 'NYC')\n",
    "\n",
    "print(\"% trips>30min in Washington is\" + \" = \" + str(long_trip_per_washington) + \"%\")\n",
    "print(\"% trips>30min in Chicago is\" + \" = \" + str(long_trip_per_chicago) + \"%\")\n",
    "print(\"% trips>30min in NYC is\" + \" = \" + str(long_trip_per_nyc) + \"%\")\n"
   ]
  },
  {
   "cell_type": "markdown",
   "metadata": {},
   "source": [
    "\n",
    "**Question**: What is the average trip length for each city? What proportion of rides made in each city are longer than 30 minutes?\n",
    "\n",
    "**Answer**: 4b)Avg Trip Len of Washington = 9 Min,\n",
    "            Avg Trip Len of Chicago = 8 Min,\n",
    "            Avg Trip Len of NYC = 7 Min,Percentage Trips Longer Than 30 Minutes in Washington = 5.42%,\n",
    "Percentage Trips Longer Than 30 Minutes in Chicago = 4.17%,\n",
    "Percentage Trips Longer Than 30 Minutes in NYC = 3.65%"
   ]
  },
  {
   "cell_type": "markdown",
   "metadata": {},
   "source": [
    "#### No of Rides per user type "
   ]
  },
  {
   "cell_type": "code",
   "execution_count": null,
   "metadata": {
    "collapsed": true
   },
   "outputs": [],
   "source": [
    "def rides_user_type(filename, city):\n",
    "    with open(filename, 'r') as f_in:\n",
    "        reader = csv.DictReader(f_in)\n",
    "        trip_len_subs = 0\n",
    "        trip_count_subs = 0\n",
    "        trip_len_customers = 0\n",
    "        trip_count_customers = 0\n",
    "        for row in reader:\n",
    "            if city == 'Washington':\n",
    "                if row['user_type'] == 'Subscriber':\n",
    "                    trip_len_subs += float(row['duration'])\n",
    "                    trip_count_subs += 1\n",
    "                else:\n",
    "                    trip_len_customers += float(row['duration'])\n",
    "                    trip_count_customers += 1\n",
    "            elif city == 'Chicago':\n",
    "                if row['user_type'] == 'Subscriber':\n",
    "                    trip_len_subs += float(row['duration'])\n",
    "                    trip_count_subs += 1\n",
    "                else:\n",
    "                    trip_len_customers += float(row['duration'])\n",
    "                    trip_count_customers += 1\n",
    "            else:\n",
    "                if row['user_type'] == 'Subscriber':\n",
    "                    trip_len_subs += float(row['duration'])\n",
    "                    trip_count_subs += 1\n",
    "                else:\n",
    "                    trip_len_customers += float(row['duration'])\n",
    "                    trip_count_customers += 1\n",
    "        avg_trip_len_subs = trip_len_subs/trip_count_subs\n",
    "        avg_trip_len_customer = trip_len_customers/trip_count_customers\n",
    "        return(avg_trip_len_subs, avg_trip_len_customer)\n",
    "\n",
    "     \n",
    "avg_trip_len_subs_washington, avg_trip_len_cust_washington = rides_user_type(data_file_Washington, 'Washington')\n",
    "avg_trip_len_subs_chicago, avg_trip_len_cust_chicago = rides_user_type(data_file_Chicago, 'Chicago')\n",
    "avg_trip_len_subs_nyc, avg_trip_len_cust_nyc = rides_user_type(data_file_NYC, 'NYC')\n",
    "\n",
    "print(\"For Washington\" + \" => \" + \"Subscribers Avg Duration = \" + str(avg_trip_len_subs_washington) + \"; Customers Avg Duration = \" + str (avg_trip_len_cust_washington))\n",
    "print(\"For Chicago\" + \" => \" + \"Subscribers Avg Duration = \" + str(avg_trip_len_subs_chicago) + \"; Customers Avg Duration = \" + str (avg_trip_len_cust_chicago))\n",
    "print(\"For NYC\" + \" => \" + \"Subscribers Avg Duration = \" + str(avg_trip_len_subs_nyc) + \"; Customers Avg Duration = \" + str (avg_trip_len_cust_nyc))\n",
    "\n",
    "if (avg_trip_len_subs_washington > avg_trip_len_cust_washington):\n",
    "    print (\"In Washington Subscribers take longer rides than Customers\")\n",
    "else:\n",
    "    print (\"In Washington Customers take longer rides than Subscribers\")\n",
    "    \n",
    "if (avg_trip_len_subs_chicago > avg_trip_len_cust_chicago):\n",
    "    print (\"In Chicago Subscribers take longer rides than Customers\")\n",
    "else:\n",
    "    print (\"In Chicago Customers take longer rides than Subscribers\")\n",
    "    \n",
    "if (avg_trip_len_subs_nyc > avg_trip_len_cust_nyc):\n",
    "    print (\"In NYC Subscribers take longer rides than Customers\")\n",
    "else:\n",
    "    print (\"In NYC Customers take longer rides than Subscribers\")"
   ]
  },
  {
   "cell_type": "markdown",
   "metadata": {},
   "source": [
    "**Question **: Within Washington, which type of user takes longer rides on average: Subscribers or Customers?\n",
    "\n",
    "**Answer**: In Washington Customers take on an average more trips than Subscribers."
   ]
  },
  {
   "cell_type": "markdown",
   "metadata": {},
   "source": [
    "<a id='visualizations'></a>\n",
    "### Visualizations\n",
    "\n",
    "While the mean trip time for Subscribers is well under 30 minutes, the mean trip time for Customers is actually _above_ 30 minutes! It will be interesting for us to look at how the trip times are distributed. In order to do this, a new library will be introduced here, `matplotlib`. Run the cell below to load the library and to generate an example plot."
   ]
  },
  {
   "cell_type": "code",
   "execution_count": 14,
   "metadata": {},
   "outputs": [
    {
     "data": {
      "image/png": "[encoded data removed]",
      "text/plain": [
       "<matplotlib.figure.Figure at 0x7f367efe48d0>"
      ]
     },
     "metadata": {
      "needs_background": "light"
     },
     "output_type": "display_data"
    }
   ],
   "source": [
    "# load library\n",
    "import matplotlib.pyplot as plt\n",
    "\n",
    "# this is a 'magic word' that allows for plots to be displayed\n",
    "# inline with the notebook. If you want to know more, see:\n",
    "# http://ipython.readthedocs.io/en/stable/interactive/magics.html\n",
    "%matplotlib inline \n",
    "\n",
    "# example histogram, data taken from bay area sample\n",
    "data = [ 7.65,  8.92,  7.42,  5.50, 16.17,  4.20,  8.98,  9.62, 11.48, 14.33,\n",
    "        19.02, 21.53,  3.90,  7.97,  2.62,  2.67,  3.08, 14.40, 12.90,  7.83,\n",
    "        25.12,  8.30,  4.93, 12.43, 10.60,  6.17, 10.88,  4.78, 15.15,  3.53,\n",
    "         9.43, 13.32, 11.72,  9.85,  5.22, 15.10,  3.95,  3.17,  8.78,  1.88,\n",
    "         4.55, 12.68, 12.38,  9.78,  7.63,  6.45, 17.38, 11.90, 11.52,  8.63,]\n",
    "plt.hist(data)\n",
    "plt.title('Distribution of Trip Durations')\n",
    "plt.xlabel('Duration (m)')\n",
    "plt.show()"
   ]
  },
  {
   "cell_type": "markdown",
   "metadata": {},
   "source": [
    "In the above cell, we collected fifty trip times in a list, and passed this list as the first argument to the `.hist()` function. This function performs the computations and creates plotting objects for generating a histogram, but the plot is actually not rendered until the `.show()` function is executed. The `.title()` and `.xlabel()` functions provide some labeling for plot context.\n",
    "\n",
    "WE will now use these functions to create a histogram of the trip times for the Washington. \n",
    "FOR NOW collecting all of the trip times and plot them."
   ]
  },
  {
   "cell_type": "markdown",
   "metadata": {},
   "source": [
    "#### Total trips"
   ]
  },
  {
   "cell_type": "code",
   "execution_count": 15,
   "metadata": {},
   "outputs": [
    {
     "data": {
      "image/png": "[encoded data removed]",
      "text/plain": [
       "<matplotlib.figure.Figure at 0x7f36723c22e8>"
      ]
     },
     "metadata": {
      "needs_background": "light"
     },
     "output_type": "display_data"
    },
    {
     "data": {
      "image/png": "[encoded data removed]",
      "text/plain": [
       "<matplotlib.figure.Figure at 0x7f367449f400>"
      ]
     },
     "metadata": {
      "needs_background": "light"
     },
     "output_type": "display_data"
    },
    {
     "data": {
      "image/png": "[encoded data removed]",
      "text/plain": [
       "<matplotlib.figure.Figure at 0x7f367f622b70>"
      ]
     },
     "metadata": {
      "needs_background": "light"
     },
     "output_type": "display_data"
    }
   ],
   "source": [
    "def ttimes(filename, city):\n",
    "\n",
    "    with open(filename, 'r') as f_in:\n",
    "        reader = csv.DictReader(f_in)\n",
    "        ttimes_washington = []\n",
    "        ttimes_chicago = []\n",
    "        ttimes_nyc = []\n",
    "        for row in reader:\n",
    "            if city == 'Washington':\n",
    "                ttimes_washington.append(float(row['duration']))\n",
    "            elif city == 'Chicago':\n",
    "                ttimes_chicago.append(float(row['duration']))\n",
    "            else:\n",
    "                ttimes_nyc.append(float(row['duration']))\n",
    "              \n",
    "        if city == 'Washington':\n",
    "            return ttimes_washington\n",
    "        elif city == 'Chicago':\n",
    "            return ttimes_chicago\n",
    "        else:\n",
    "            return ttimes_nyc\n",
    "\n",
    "ttimes_washington = ttimes(data_file_Washington, 'Washington')\n",
    "ttimes_chicago = ttimes(data_file_Chicago, 'Chicago')\n",
    "ttimes_nyc = ttimes(data_file_NYC, 'NYC')\n",
    "\n",
    "# Plot the histogram of trip durations for each city\n",
    "plt.hist(ttimes_washington)\n",
    "plt.title('Distribution of Trip Durations for Washington')\n",
    "plt.xlabel('Duration (m)')\n",
    "plt.show()\n",
    "\n",
    "plt.hist(ttimes_chicago)\n",
    "plt.title('Distribution of Trip Durations for Chicago')\n",
    "plt.xlabel('Duration (m)')\n",
    "plt.show()\n",
    "\n",
    "plt.hist(ttimes_nyc)\n",
    "plt.title('Distribution of Trip Durations for NYC')\n",
    "plt.xlabel('Duration (m)')\n",
    "plt.show()"
   ]
  },
  {
   "cell_type": "markdown",
   "metadata": {},
   "source": [
    "#### Total trips by customers and Subscribers"
   ]
  },
  {
   "cell_type": "code",
   "execution_count": 16,
   "metadata": {
    "collapsed": true
   },
   "outputs": [],
   "source": [
    "def ttimes_subs_cust(filename, city):\n",
    "    with open(filename, 'r') as f_in:\n",
    "        reader = csv.DictReader(f_in)\n",
    "        ttimes_subs_washington = []\n",
    "        ttimes_cust_washington = []\n",
    "        for row in reader:\n",
    "            if city == 'Washington':\n",
    "                if row['user_type'] == 'Subscriber':\n",
    "                    ttimes_subs_washington.append(float(row['duration']))\n",
    "                else:\n",
    "                    ttimes_cust_washington.append(float(row['duration']))\n",
    "        if city == 'Washington':\n",
    "            return (ttimes_subs_washington, ttimes_cust_washington)\n",
    "\n",
    "ttimes_subs_washington, ttimes_cust_washington = ttimes_subs_cust(data_file_Washington, 'Washington')\n"
   ]
  },
  {
   "cell_type": "code",
   "execution_count": 26,
   "metadata": {},
   "outputs": [
    {
     "data": {
      "image/png": "[encoded data removed]",
      "text/plain": [
       "<matplotlib.figure.Figure at 0x7f367f5dcb38>"
      ]
     },
     "metadata": {
      "needs_background": "light"
     },
     "output_type": "display_data"
    }
   ],
   "source": [
    "f, (plt1, plt2) = plt.subplots(2, sharey=True)\n",
    "plt1.hist(ttimes_subs_washington, range = (0, 75), bins = 15)\n",
    "plt1.set_title('Trip Durations distribution for Washington Subscribers')\n",
    "plt1.set_xlabel('Time in Min')\n",
    "plt1.set_ylabel(\"Trip Duration in Min\")\n",
    "\n",
    "plt2.hist(ttimes_cust_washington, range = (0, 75), bins = 15)\n",
    "plt2.set_title('Trip Durations distribution for Washington Customers')\n",
    "plt2.set_xlabel('Time in Minutes')\n",
    "plt2.set_ylabel(\"Trip Duration in Min\")\n",
    "\n",
    "f.subplots_adjust(hspace=0.25)\n",
    "f.set_figheight(10)\n",
    "f.set_figwidth(15)\n",
    "plt.show()\n"
   ]
  },
  {
   "cell_type": "markdown",
   "metadata": {},
   "source": [
    "The plot consists of one extremely tall bar on the left, maybe a very short second bar, and a whole lot of empty space in the center and right. Take a look at the duration values on the x-axis. This suggests that there are some highly infrequent outliers in the data. Instead of reprocessing the data, we will use additional parameters with the `.hist()` function to limit the range of data that is plotted. Documentation for the function can be found [[here]](https://matplotlib.org/devdocs/api/_as_gen/matplotlib.pyplot.hist.html#matplotlib.pyplot.hist).\n",
    "\n",
    " Using the parameters of the `.hist()` function to plot the distribution of trip times for the Subscribers in Washinton. Did the same thing for only the Customers. Adding limits to the plots so that only trips of duration less than 75 minutes are plotted. I set up the plots up so that bars are in five-minute wide intervals. \n",
    "\n",
    "**Question **:For each group, where is the peak of each distribution? Describe the shape of each distribution?\n",
    "\n",
    "**Answer**: The peak is at the Average Trip Duration ,The peak duration is 5 (75/15) for each plot,Also the distribution for both the plots is positively skewed i.e values are greator at starting and lesser in ending."
   ]
  },
  {
   "cell_type": "markdown",
   "metadata": {
    "collapsed": true
   },
   "source": [
    "<a id='eda_continued'></a>\n",
    "## Performing Your Own Analysis\n",
    "\n",
    "So far, you've performed an initial exploration into the data available. You have compared the relative volume of trips made between three U.S. cities and the ratio of trips made by Subscribers and Customers. For one of these cities, you have investigated differences between Subscribers and Customers in terms of how long a typical trip lasts. Now it is your turn to continue the exploration in a direction that you choose. Here are a few suggestions for questions to explore:\n",
    "\n",
    "- How does ridership differ by month or season? Which month / season has the highest ridership? Does the ratio of Subscriber trips to Customer trips change depending on the month or season?\n",
    "- Is the pattern of ridership different on the weekends versus weekdays? On what days are Subscribers most likely to use the system? What about Customers? Does the average duration of rides change depending on the day of the week?\n",
    "- During what time of day is the system used the most? Is there a difference in usage patterns for Subscribers and Customers?\n",
    "\n",
    "If any of the questions you posed in your answer to question 1 align with the bullet points above, this is a good opportunity to investigate one of them. As part of your investigation, you will need to create a visualization. If you want to create something other than a histogram, then you might want to consult the [Pyplot documentation](https://matplotlib.org/devdocs/api/pyplot_summary.html). In particular, if you are plotting values across a categorical variable (e.g. city, user type), a bar chart will be useful. The [documentation page for `.bar()`](https://matplotlib.org/devdocs/api/_as_gen/matplotlib.pyplot.bar.html#matplotlib.pyplot.bar) includes links at the bottom of the page with examples for you to build off of for your own use.\n",
    "\n",
    "**Question 6**: Continue the investigation by exploring another question that could be answered by the data available. Document the question you want to explore below. Your investigation should involve at least two variables and should compare at least two groups. You should also use at least one visualization as part of your explorations.\n",
    "\n",
    "**Answer**:The highest ridership is in July,Subscribers are always greator than customers ,however the proportion decreases as we reach June and July ,but again the "
   ]
  },
  {
   "cell_type": "code",
   "execution_count": 19,
   "metadata": {},
   "outputs": [
    {
     "name": "stdout",
     "output_type": "stream",
     "text": [
      "Ridership by Month for Washington is {1: 31140.223600000107, 2: 36565.14208333328, 3: 110075.18485000047, 4: 109825.68944999986, 5: 116117.24186666649, 6: 153950.80770000006, 7: 168083.57223333383, 8: 134724.9150000009, 9: 131644.45458333314, 10: 125110.32186666655, 11: 89993.60525000017, 12: 48510.61320000002}\n"
     ]
    },
    {
     "data": {
      "image/png": "[encoded data removed]",
      "text/plain": [
       "<matplotlib.figure.Figure at 0x7f367f33c7b8>"
      ]
     },
     "metadata": {
      "needs_background": "light"
     },
     "output_type": "display_data"
    }
   ],
   "source": [
    "# How does ridership differ by month or season? Which month / season has the highest ridership?\n",
    "def duration_by_month(filename):\n",
    "    with open(filename, 'r') as f_in:\n",
    "        reader = csv.DictReader(f_in)\n",
    "        duration_month = {1:0, 2:0, 3:0, 4: 0, 5:0, 6:0, 7:0, 8:0, 9:0, 10:0, 11:0, 12:0}\n",
    "        for row in reader:\n",
    "            duration_month[int(row['month'])] += float(row['duration'])\n",
    "                \n",
    "        return duration_month\n",
    "\n",
    "\n",
    "duration_by_month_Washington = duration_by_month(data_file_Washington)\n",
    "print(\"Ridership by Month for Washington is \"+ str(duration_by_month_Washington))\n",
    "\n",
    "no_of_months = range(12)\n",
    "plt.figure(figsize=(20,8))\n",
    "plt.bar(no_of_months, duration_by_month_Washington.values(), color='b', align='center')\n",
    "plt.xticks(no_of_months, duration_by_month_Washington.keys())\n",
    "plt.xlabel(\"Month of the Year\")\n",
    "plt.ylabel(\"Trip Duration in Minutes\")\n",
    "plt.title(\"Ridership by Month for Washington\", fontsize=15)\n",
    "plt.show()"
   ]
  },
  {
   "cell_type": "code",
   "execution_count": 20,
   "metadata": {},
   "outputs": [
    {
     "name": "stdout",
     "output_type": "stream",
     "text": [
      "Subscriber_Trips_by_Month - {1: 2212, 2: 2571, 3: 4383, 4: 4410, 5: 4520, 6: 5613, 7: 5155, 8: 5392, 9: 5204, 10: 5232, 11: 4139, 12: 2922}\n",
      "Customer_Trips_by_Month - {1: 222, 2: 283, 3: 1188, 4: 1192, 5: 1248, 6: 1707, 7: 2186, 8: 1806, 9: 1674, 10: 1560, 11: 1075, 12: 432}\n"
     ]
    },
    {
     "data": {
      "image/png": "[encoded data removed]",
      "text/plain": [
       "<matplotlib.figure.Figure at 0x7f367f25f588>"
      ]
     },
     "metadata": {
      "needs_background": "light"
     },
     "output_type": "display_data"
    },
    {
     "name": "stdout",
     "output_type": "stream",
     "text": [
      "Ratio of Subscriber to Customer Trips is {1: 9.96, 2: 9.08, 3: 3.69, 4: 3.7, 5: 3.62, 6: 3.29, 7: 2.36, 8: 2.99, 9: 3.11, 10: 3.35, 11: 3.85, 12: 6.76}\n"
     ]
    },
    {
     "data": {
      "image/png": "[encoded data removed]",
      "text/plain": [
       "<matplotlib.figure.Figure at 0x7f367f2c6208>"
      ]
     },
     "metadata": {
      "needs_background": "light"
     },
     "output_type": "display_data"
    }
   ],
   "source": [
    "# Does the ratio of Subscriber trips to Customer trips change depending on the month or season?\n",
    "def trips_by_month(filename, user_type):\n",
    "    with open(filename, 'r') as f_in:\n",
    "        reader = csv.DictReader(f_in)\n",
    "        trips_month = {1:0, 2:0, 3:0, 4: 0, 5:0, 6:0, 7:0, 8:0, 9:0, 10:0, 11:0, 12:0}\n",
    "        for row in reader:\n",
    "            if user_type == 'Subscriber' and row['user_type'] == 'Subscriber':\n",
    "                trips_month[int(row['month'])] += 1\n",
    "            elif user_type == 'Customer' and row['user_type'] == 'Customer':\n",
    "                trips_month[int(row['month'])] += 1\n",
    "                \n",
    "        return (trips_month)\n",
    "\n",
    "\n",
    "trips_month_subs = trips_by_month(data_file_Washington, 'Subscriber')\n",
    "print(\"Subscriber_Trips_by_Month - \" + str(trips_month_subs))\n",
    "\n",
    "trips_month_cust = trips_by_month(data_file_Washington, 'Customer')\n",
    "print(\"Customer_Trips_by_Month - \" + str(trips_month_cust))\n",
    "\n",
    "no_of_months = range(12)\n",
    "plt.figure(figsize=(15,7))\n",
    "plt.bar(no_of_months, trips_month_subs.values(), color='r', align='center')\n",
    "plt.bar(no_of_months, trips_month_cust.values(), color='b', align='center')\n",
    "plt.legend(('Subscriber_Trips','Customer_Trips'))\n",
    "plt.xticks(no_of_months, trips_month_subs.keys())\n",
    "plt.xlabel(\"Month of the Year\")\n",
    "plt.ylabel(\"No of Trips\")\n",
    "plt.title(\"Ratio of Subscriber Trips to Customer Trips\", fontsize=15)\n",
    "plt.show()\n",
    "\n",
    "ratio_of_trips = {mon: round(trips_month_subs[mon]/trips_month_cust[mon],2) for mon in trips_month_subs}\n",
    "print(\"Ratio of Subscriber to Customer Trips is \" + str(ratio_of_trips))\n",
    "\n",
    "no_of_months = range(12)\n",
    "plt.figure(figsize=(15,7))\n",
    "plt.bar(no_of_months, ratio_of_trips.values(), color='y', align='center')\n",
    "plt.xticks(no_of_months, ratio_of_trips.keys())\n",
    "plt.xlabel('Month of the Year')\n",
    "plt.ylabel(\"Trip Ratio's\")\n",
    "plt.title(\"Ratio of Subscriber Trips to Customer Trips\", fontsize=15)\n",
    "plt.show()"
   ]
  },
  {
   "cell_type": "markdown",
   "metadata": {},
   "source": [
    "<a id='conclusions'></a>\n",
    "## Conclusions\n",
    "\n",
    "More Analysis can be done ;\n",
    "For example, detailed location data has not been investigated. Where are the most commonly used docks? What are the most common routes? As another example, weather has potential to have a large impact on daily ridership. How much is ridership impacted when there is rain or snow? Are subscribers or customers affected more by changes in weather?\n",
    "\n",
    "\n"
   ]
  },
  {
   "cell_type": "code",
   "execution_count": null,
   "metadata": {
    "collapsed": true
   },
   "outputs": [],
   "source": []
  }
 ],
 "metadata": {
  "anaconda-cloud": {},
  "kernelspec": {
   "display_name": "Python 3",
   "language": "python",
   "name": "python3"
  },
  "language_info": {
   "codemirror_mode": {
    "name": "ipython",
    "version": 3
   },
   "file_extension": ".py",
   "mimetype": "text/x-python",
   "name": "python",
   "nbconvert_exporter": "python",
   "pygments_lexer": "ipython3",
   "version": "3.6.3"
  }
 },
 "nbformat": 4,
 "nbformat_minor": 1
}
